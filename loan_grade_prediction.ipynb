{
 "cells": [
  {
   "cell_type": "markdown",
   "id": "c7c542bf",
   "metadata": {
    "papermill": {
     "duration": 0.010358,
     "end_time": "2024-08-12T13:16:28.802126",
     "exception": false,
     "start_time": "2024-08-12T13:16:28.791768",
     "status": "completed"
    },
    "tags": []
   },
   "source": [
    "Importing necessary libraries."
   ]
  },
  {
   "cell_type": "code",
   "execution_count": 1,
   "id": "2c199595",
   "metadata": {
    "execution": {
     "iopub.execute_input": "2024-08-12T13:16:28.824157Z",
     "iopub.status.busy": "2024-08-12T13:16:28.823718Z",
     "iopub.status.idle": "2024-08-12T13:16:31.520157Z",
     "shell.execute_reply": "2024-08-12T13:16:31.518925Z"
    },
    "papermill": {
     "duration": 2.710885,
     "end_time": "2024-08-12T13:16:31.523143",
     "exception": false,
     "start_time": "2024-08-12T13:16:28.812258",
     "status": "completed"
    },
    "tags": []
   },
   "outputs": [],
   "source": [
    "import pandas as pd\n",
    "from xgboost import XGBClassifier\n",
    "from scipy.stats import uniform, randint\n",
    "from sklearn.preprocessing import OrdinalEncoder\n",
    "from sklearn.model_selection import train_test_split, RandomizedSearchCV\n",
    "from sklearn.metrics import accuracy_score, classification_report"
   ]
  },
  {
   "cell_type": "markdown",
   "id": "b5d3d232",
   "metadata": {
    "papermill": {
     "duration": 0.010095,
     "end_time": "2024-08-12T13:16:31.543826",
     "exception": false,
     "start_time": "2024-08-12T13:16:31.533731",
     "status": "completed"
    },
    "tags": []
   },
   "source": [
    "Loading and viewing the dataset. This dataset contains 39717 rows and 111 columns."
   ]
  },
  {
   "cell_type": "code",
   "execution_count": 2,
   "id": "7ebf9f2f",
   "metadata": {
    "execution": {
     "iopub.execute_input": "2024-08-12T13:16:31.565681Z",
     "iopub.status.busy": "2024-08-12T13:16:31.565112Z",
     "iopub.status.idle": "2024-08-12T13:16:33.114334Z",
     "shell.execute_reply": "2024-08-12T13:16:33.113091Z"
    },
    "papermill": {
     "duration": 1.563543,
     "end_time": "2024-08-12T13:16:33.117241",
     "exception": false,
     "start_time": "2024-08-12T13:16:31.553698",
     "status": "completed"
    },
    "tags": []
   },
   "outputs": [
    {
     "name": "stderr",
     "output_type": "stream",
     "text": [
      "/tmp/ipykernel_18/602554259.py:1: DtypeWarning: Columns (47) have mixed types. Specify dtype option on import or set low_memory=False.\n",
      "  df = pd.read_csv('/kaggle/input/lending-club-loan-dataset-2007-2011/loan.csv')\n"
     ]
    },
    {
     "data": {
      "text/html": [
       "<div>\n",
       "<style scoped>\n",
       "    .dataframe tbody tr th:only-of-type {\n",
       "        vertical-align: middle;\n",
       "    }\n",
       "\n",
       "    .dataframe tbody tr th {\n",
       "        vertical-align: top;\n",
       "    }\n",
       "\n",
       "    .dataframe thead th {\n",
       "        text-align: right;\n",
       "    }\n",
       "</style>\n",
       "<table border=\"1\" class=\"dataframe\">\n",
       "  <thead>\n",
       "    <tr style=\"text-align: right;\">\n",
       "      <th></th>\n",
       "      <th>id</th>\n",
       "      <th>member_id</th>\n",
       "      <th>loan_amnt</th>\n",
       "      <th>funded_amnt</th>\n",
       "      <th>funded_amnt_inv</th>\n",
       "      <th>term</th>\n",
       "      <th>int_rate</th>\n",
       "      <th>installment</th>\n",
       "      <th>grade</th>\n",
       "      <th>sub_grade</th>\n",
       "      <th>...</th>\n",
       "      <th>num_tl_90g_dpd_24m</th>\n",
       "      <th>num_tl_op_past_12m</th>\n",
       "      <th>pct_tl_nvr_dlq</th>\n",
       "      <th>percent_bc_gt_75</th>\n",
       "      <th>pub_rec_bankruptcies</th>\n",
       "      <th>tax_liens</th>\n",
       "      <th>tot_hi_cred_lim</th>\n",
       "      <th>total_bal_ex_mort</th>\n",
       "      <th>total_bc_limit</th>\n",
       "      <th>total_il_high_credit_limit</th>\n",
       "    </tr>\n",
       "  </thead>\n",
       "  <tbody>\n",
       "    <tr>\n",
       "      <th>0</th>\n",
       "      <td>1077501</td>\n",
       "      <td>1296599</td>\n",
       "      <td>5000</td>\n",
       "      <td>5000</td>\n",
       "      <td>4975.0</td>\n",
       "      <td>36 months</td>\n",
       "      <td>10.65%</td>\n",
       "      <td>162.87</td>\n",
       "      <td>B</td>\n",
       "      <td>B2</td>\n",
       "      <td>...</td>\n",
       "      <td>NaN</td>\n",
       "      <td>NaN</td>\n",
       "      <td>NaN</td>\n",
       "      <td>NaN</td>\n",
       "      <td>0.0</td>\n",
       "      <td>0.0</td>\n",
       "      <td>NaN</td>\n",
       "      <td>NaN</td>\n",
       "      <td>NaN</td>\n",
       "      <td>NaN</td>\n",
       "    </tr>\n",
       "    <tr>\n",
       "      <th>1</th>\n",
       "      <td>1077430</td>\n",
       "      <td>1314167</td>\n",
       "      <td>2500</td>\n",
       "      <td>2500</td>\n",
       "      <td>2500.0</td>\n",
       "      <td>60 months</td>\n",
       "      <td>15.27%</td>\n",
       "      <td>59.83</td>\n",
       "      <td>C</td>\n",
       "      <td>C4</td>\n",
       "      <td>...</td>\n",
       "      <td>NaN</td>\n",
       "      <td>NaN</td>\n",
       "      <td>NaN</td>\n",
       "      <td>NaN</td>\n",
       "      <td>0.0</td>\n",
       "      <td>0.0</td>\n",
       "      <td>NaN</td>\n",
       "      <td>NaN</td>\n",
       "      <td>NaN</td>\n",
       "      <td>NaN</td>\n",
       "    </tr>\n",
       "    <tr>\n",
       "      <th>2</th>\n",
       "      <td>1077175</td>\n",
       "      <td>1313524</td>\n",
       "      <td>2400</td>\n",
       "      <td>2400</td>\n",
       "      <td>2400.0</td>\n",
       "      <td>36 months</td>\n",
       "      <td>15.96%</td>\n",
       "      <td>84.33</td>\n",
       "      <td>C</td>\n",
       "      <td>C5</td>\n",
       "      <td>...</td>\n",
       "      <td>NaN</td>\n",
       "      <td>NaN</td>\n",
       "      <td>NaN</td>\n",
       "      <td>NaN</td>\n",
       "      <td>0.0</td>\n",
       "      <td>0.0</td>\n",
       "      <td>NaN</td>\n",
       "      <td>NaN</td>\n",
       "      <td>NaN</td>\n",
       "      <td>NaN</td>\n",
       "    </tr>\n",
       "    <tr>\n",
       "      <th>3</th>\n",
       "      <td>1076863</td>\n",
       "      <td>1277178</td>\n",
       "      <td>10000</td>\n",
       "      <td>10000</td>\n",
       "      <td>10000.0</td>\n",
       "      <td>36 months</td>\n",
       "      <td>13.49%</td>\n",
       "      <td>339.31</td>\n",
       "      <td>C</td>\n",
       "      <td>C1</td>\n",
       "      <td>...</td>\n",
       "      <td>NaN</td>\n",
       "      <td>NaN</td>\n",
       "      <td>NaN</td>\n",
       "      <td>NaN</td>\n",
       "      <td>0.0</td>\n",
       "      <td>0.0</td>\n",
       "      <td>NaN</td>\n",
       "      <td>NaN</td>\n",
       "      <td>NaN</td>\n",
       "      <td>NaN</td>\n",
       "    </tr>\n",
       "    <tr>\n",
       "      <th>4</th>\n",
       "      <td>1075358</td>\n",
       "      <td>1311748</td>\n",
       "      <td>3000</td>\n",
       "      <td>3000</td>\n",
       "      <td>3000.0</td>\n",
       "      <td>60 months</td>\n",
       "      <td>12.69%</td>\n",
       "      <td>67.79</td>\n",
       "      <td>B</td>\n",
       "      <td>B5</td>\n",
       "      <td>...</td>\n",
       "      <td>NaN</td>\n",
       "      <td>NaN</td>\n",
       "      <td>NaN</td>\n",
       "      <td>NaN</td>\n",
       "      <td>0.0</td>\n",
       "      <td>0.0</td>\n",
       "      <td>NaN</td>\n",
       "      <td>NaN</td>\n",
       "      <td>NaN</td>\n",
       "      <td>NaN</td>\n",
       "    </tr>\n",
       "    <tr>\n",
       "      <th>...</th>\n",
       "      <td>...</td>\n",
       "      <td>...</td>\n",
       "      <td>...</td>\n",
       "      <td>...</td>\n",
       "      <td>...</td>\n",
       "      <td>...</td>\n",
       "      <td>...</td>\n",
       "      <td>...</td>\n",
       "      <td>...</td>\n",
       "      <td>...</td>\n",
       "      <td>...</td>\n",
       "      <td>...</td>\n",
       "      <td>...</td>\n",
       "      <td>...</td>\n",
       "      <td>...</td>\n",
       "      <td>...</td>\n",
       "      <td>...</td>\n",
       "      <td>...</td>\n",
       "      <td>...</td>\n",
       "      <td>...</td>\n",
       "      <td>...</td>\n",
       "    </tr>\n",
       "    <tr>\n",
       "      <th>39712</th>\n",
       "      <td>92187</td>\n",
       "      <td>92174</td>\n",
       "      <td>2500</td>\n",
       "      <td>2500</td>\n",
       "      <td>1075.0</td>\n",
       "      <td>36 months</td>\n",
       "      <td>8.07%</td>\n",
       "      <td>78.42</td>\n",
       "      <td>A</td>\n",
       "      <td>A4</td>\n",
       "      <td>...</td>\n",
       "      <td>NaN</td>\n",
       "      <td>NaN</td>\n",
       "      <td>NaN</td>\n",
       "      <td>NaN</td>\n",
       "      <td>NaN</td>\n",
       "      <td>NaN</td>\n",
       "      <td>NaN</td>\n",
       "      <td>NaN</td>\n",
       "      <td>NaN</td>\n",
       "      <td>NaN</td>\n",
       "    </tr>\n",
       "    <tr>\n",
       "      <th>39713</th>\n",
       "      <td>90665</td>\n",
       "      <td>90607</td>\n",
       "      <td>8500</td>\n",
       "      <td>8500</td>\n",
       "      <td>875.0</td>\n",
       "      <td>36 months</td>\n",
       "      <td>10.28%</td>\n",
       "      <td>275.38</td>\n",
       "      <td>C</td>\n",
       "      <td>C1</td>\n",
       "      <td>...</td>\n",
       "      <td>NaN</td>\n",
       "      <td>NaN</td>\n",
       "      <td>NaN</td>\n",
       "      <td>NaN</td>\n",
       "      <td>NaN</td>\n",
       "      <td>NaN</td>\n",
       "      <td>NaN</td>\n",
       "      <td>NaN</td>\n",
       "      <td>NaN</td>\n",
       "      <td>NaN</td>\n",
       "    </tr>\n",
       "    <tr>\n",
       "      <th>39714</th>\n",
       "      <td>90395</td>\n",
       "      <td>90390</td>\n",
       "      <td>5000</td>\n",
       "      <td>5000</td>\n",
       "      <td>1325.0</td>\n",
       "      <td>36 months</td>\n",
       "      <td>8.07%</td>\n",
       "      <td>156.84</td>\n",
       "      <td>A</td>\n",
       "      <td>A4</td>\n",
       "      <td>...</td>\n",
       "      <td>NaN</td>\n",
       "      <td>NaN</td>\n",
       "      <td>NaN</td>\n",
       "      <td>NaN</td>\n",
       "      <td>NaN</td>\n",
       "      <td>NaN</td>\n",
       "      <td>NaN</td>\n",
       "      <td>NaN</td>\n",
       "      <td>NaN</td>\n",
       "      <td>NaN</td>\n",
       "    </tr>\n",
       "    <tr>\n",
       "      <th>39715</th>\n",
       "      <td>90376</td>\n",
       "      <td>89243</td>\n",
       "      <td>5000</td>\n",
       "      <td>5000</td>\n",
       "      <td>650.0</td>\n",
       "      <td>36 months</td>\n",
       "      <td>7.43%</td>\n",
       "      <td>155.38</td>\n",
       "      <td>A</td>\n",
       "      <td>A2</td>\n",
       "      <td>...</td>\n",
       "      <td>NaN</td>\n",
       "      <td>NaN</td>\n",
       "      <td>NaN</td>\n",
       "      <td>NaN</td>\n",
       "      <td>NaN</td>\n",
       "      <td>NaN</td>\n",
       "      <td>NaN</td>\n",
       "      <td>NaN</td>\n",
       "      <td>NaN</td>\n",
       "      <td>NaN</td>\n",
       "    </tr>\n",
       "    <tr>\n",
       "      <th>39716</th>\n",
       "      <td>87023</td>\n",
       "      <td>86999</td>\n",
       "      <td>7500</td>\n",
       "      <td>7500</td>\n",
       "      <td>800.0</td>\n",
       "      <td>36 months</td>\n",
       "      <td>13.75%</td>\n",
       "      <td>255.43</td>\n",
       "      <td>E</td>\n",
       "      <td>E2</td>\n",
       "      <td>...</td>\n",
       "      <td>NaN</td>\n",
       "      <td>NaN</td>\n",
       "      <td>NaN</td>\n",
       "      <td>NaN</td>\n",
       "      <td>NaN</td>\n",
       "      <td>NaN</td>\n",
       "      <td>NaN</td>\n",
       "      <td>NaN</td>\n",
       "      <td>NaN</td>\n",
       "      <td>NaN</td>\n",
       "    </tr>\n",
       "  </tbody>\n",
       "</table>\n",
       "<p>39717 rows × 111 columns</p>\n",
       "</div>"
      ],
      "text/plain": [
       "            id  member_id  loan_amnt  funded_amnt  funded_amnt_inv  \\\n",
       "0      1077501    1296599       5000         5000           4975.0   \n",
       "1      1077430    1314167       2500         2500           2500.0   \n",
       "2      1077175    1313524       2400         2400           2400.0   \n",
       "3      1076863    1277178      10000        10000          10000.0   \n",
       "4      1075358    1311748       3000         3000           3000.0   \n",
       "...        ...        ...        ...          ...              ...   \n",
       "39712    92187      92174       2500         2500           1075.0   \n",
       "39713    90665      90607       8500         8500            875.0   \n",
       "39714    90395      90390       5000         5000           1325.0   \n",
       "39715    90376      89243       5000         5000            650.0   \n",
       "39716    87023      86999       7500         7500            800.0   \n",
       "\n",
       "             term int_rate  installment grade sub_grade  ...  \\\n",
       "0       36 months   10.65%       162.87     B        B2  ...   \n",
       "1       60 months   15.27%        59.83     C        C4  ...   \n",
       "2       36 months   15.96%        84.33     C        C5  ...   \n",
       "3       36 months   13.49%       339.31     C        C1  ...   \n",
       "4       60 months   12.69%        67.79     B        B5  ...   \n",
       "...           ...      ...          ...   ...       ...  ...   \n",
       "39712   36 months    8.07%        78.42     A        A4  ...   \n",
       "39713   36 months   10.28%       275.38     C        C1  ...   \n",
       "39714   36 months    8.07%       156.84     A        A4  ...   \n",
       "39715   36 months    7.43%       155.38     A        A2  ...   \n",
       "39716   36 months   13.75%       255.43     E        E2  ...   \n",
       "\n",
       "      num_tl_90g_dpd_24m num_tl_op_past_12m pct_tl_nvr_dlq  percent_bc_gt_75  \\\n",
       "0                    NaN                NaN            NaN               NaN   \n",
       "1                    NaN                NaN            NaN               NaN   \n",
       "2                    NaN                NaN            NaN               NaN   \n",
       "3                    NaN                NaN            NaN               NaN   \n",
       "4                    NaN                NaN            NaN               NaN   \n",
       "...                  ...                ...            ...               ...   \n",
       "39712                NaN                NaN            NaN               NaN   \n",
       "39713                NaN                NaN            NaN               NaN   \n",
       "39714                NaN                NaN            NaN               NaN   \n",
       "39715                NaN                NaN            NaN               NaN   \n",
       "39716                NaN                NaN            NaN               NaN   \n",
       "\n",
       "      pub_rec_bankruptcies tax_liens tot_hi_cred_lim total_bal_ex_mort  \\\n",
       "0                      0.0       0.0             NaN               NaN   \n",
       "1                      0.0       0.0             NaN               NaN   \n",
       "2                      0.0       0.0             NaN               NaN   \n",
       "3                      0.0       0.0             NaN               NaN   \n",
       "4                      0.0       0.0             NaN               NaN   \n",
       "...                    ...       ...             ...               ...   \n",
       "39712                  NaN       NaN             NaN               NaN   \n",
       "39713                  NaN       NaN             NaN               NaN   \n",
       "39714                  NaN       NaN             NaN               NaN   \n",
       "39715                  NaN       NaN             NaN               NaN   \n",
       "39716                  NaN       NaN             NaN               NaN   \n",
       "\n",
       "      total_bc_limit total_il_high_credit_limit  \n",
       "0                NaN                        NaN  \n",
       "1                NaN                        NaN  \n",
       "2                NaN                        NaN  \n",
       "3                NaN                        NaN  \n",
       "4                NaN                        NaN  \n",
       "...              ...                        ...  \n",
       "39712            NaN                        NaN  \n",
       "39713            NaN                        NaN  \n",
       "39714            NaN                        NaN  \n",
       "39715            NaN                        NaN  \n",
       "39716            NaN                        NaN  \n",
       "\n",
       "[39717 rows x 111 columns]"
      ]
     },
     "execution_count": 2,
     "metadata": {},
     "output_type": "execute_result"
    }
   ],
   "source": [
    "df = pd.read_csv('/kaggle/input/lending-club-loan-dataset-2007-2011/loan.csv')\n",
    "df"
   ]
  },
  {
   "cell_type": "markdown",
   "id": "614589c6",
   "metadata": {
    "papermill": {
     "duration": 0.011308,
     "end_time": "2024-08-12T13:16:33.144497",
     "exception": false,
     "start_time": "2024-08-12T13:16:33.133189",
     "status": "completed"
    },
    "tags": []
   },
   "source": [
    "Cleaning the dataframe by dropping the columns that only have null values. Only 57 columns remain."
   ]
  },
  {
   "cell_type": "code",
   "execution_count": 3,
   "id": "55204dd2",
   "metadata": {
    "execution": {
     "iopub.execute_input": "2024-08-12T13:16:33.169312Z",
     "iopub.status.busy": "2024-08-12T13:16:33.168089Z",
     "iopub.status.idle": "2024-08-12T13:16:33.353790Z",
     "shell.execute_reply": "2024-08-12T13:16:33.352494Z"
    },
    "papermill": {
     "duration": 0.201132,
     "end_time": "2024-08-12T13:16:33.356742",
     "exception": false,
     "start_time": "2024-08-12T13:16:33.155610",
     "status": "completed"
    },
    "tags": []
   },
   "outputs": [
    {
     "data": {
      "text/html": [
       "<div>\n",
       "<style scoped>\n",
       "    .dataframe tbody tr th:only-of-type {\n",
       "        vertical-align: middle;\n",
       "    }\n",
       "\n",
       "    .dataframe tbody tr th {\n",
       "        vertical-align: top;\n",
       "    }\n",
       "\n",
       "    .dataframe thead th {\n",
       "        text-align: right;\n",
       "    }\n",
       "</style>\n",
       "<table border=\"1\" class=\"dataframe\">\n",
       "  <thead>\n",
       "    <tr style=\"text-align: right;\">\n",
       "      <th></th>\n",
       "      <th>id</th>\n",
       "      <th>member_id</th>\n",
       "      <th>loan_amnt</th>\n",
       "      <th>funded_amnt</th>\n",
       "      <th>funded_amnt_inv</th>\n",
       "      <th>term</th>\n",
       "      <th>int_rate</th>\n",
       "      <th>installment</th>\n",
       "      <th>grade</th>\n",
       "      <th>sub_grade</th>\n",
       "      <th>...</th>\n",
       "      <th>next_pymnt_d</th>\n",
       "      <th>last_credit_pull_d</th>\n",
       "      <th>collections_12_mths_ex_med</th>\n",
       "      <th>policy_code</th>\n",
       "      <th>application_type</th>\n",
       "      <th>acc_now_delinq</th>\n",
       "      <th>chargeoff_within_12_mths</th>\n",
       "      <th>delinq_amnt</th>\n",
       "      <th>pub_rec_bankruptcies</th>\n",
       "      <th>tax_liens</th>\n",
       "    </tr>\n",
       "  </thead>\n",
       "  <tbody>\n",
       "    <tr>\n",
       "      <th>0</th>\n",
       "      <td>1077501</td>\n",
       "      <td>1296599</td>\n",
       "      <td>5000</td>\n",
       "      <td>5000</td>\n",
       "      <td>4975.0</td>\n",
       "      <td>36 months</td>\n",
       "      <td>10.65%</td>\n",
       "      <td>162.87</td>\n",
       "      <td>B</td>\n",
       "      <td>B2</td>\n",
       "      <td>...</td>\n",
       "      <td>NaN</td>\n",
       "      <td>May-16</td>\n",
       "      <td>0.0</td>\n",
       "      <td>1</td>\n",
       "      <td>INDIVIDUAL</td>\n",
       "      <td>0</td>\n",
       "      <td>0.0</td>\n",
       "      <td>0</td>\n",
       "      <td>0.0</td>\n",
       "      <td>0.0</td>\n",
       "    </tr>\n",
       "    <tr>\n",
       "      <th>1</th>\n",
       "      <td>1077430</td>\n",
       "      <td>1314167</td>\n",
       "      <td>2500</td>\n",
       "      <td>2500</td>\n",
       "      <td>2500.0</td>\n",
       "      <td>60 months</td>\n",
       "      <td>15.27%</td>\n",
       "      <td>59.83</td>\n",
       "      <td>C</td>\n",
       "      <td>C4</td>\n",
       "      <td>...</td>\n",
       "      <td>NaN</td>\n",
       "      <td>Sep-13</td>\n",
       "      <td>0.0</td>\n",
       "      <td>1</td>\n",
       "      <td>INDIVIDUAL</td>\n",
       "      <td>0</td>\n",
       "      <td>0.0</td>\n",
       "      <td>0</td>\n",
       "      <td>0.0</td>\n",
       "      <td>0.0</td>\n",
       "    </tr>\n",
       "    <tr>\n",
       "      <th>2</th>\n",
       "      <td>1077175</td>\n",
       "      <td>1313524</td>\n",
       "      <td>2400</td>\n",
       "      <td>2400</td>\n",
       "      <td>2400.0</td>\n",
       "      <td>36 months</td>\n",
       "      <td>15.96%</td>\n",
       "      <td>84.33</td>\n",
       "      <td>C</td>\n",
       "      <td>C5</td>\n",
       "      <td>...</td>\n",
       "      <td>NaN</td>\n",
       "      <td>May-16</td>\n",
       "      <td>0.0</td>\n",
       "      <td>1</td>\n",
       "      <td>INDIVIDUAL</td>\n",
       "      <td>0</td>\n",
       "      <td>0.0</td>\n",
       "      <td>0</td>\n",
       "      <td>0.0</td>\n",
       "      <td>0.0</td>\n",
       "    </tr>\n",
       "    <tr>\n",
       "      <th>3</th>\n",
       "      <td>1076863</td>\n",
       "      <td>1277178</td>\n",
       "      <td>10000</td>\n",
       "      <td>10000</td>\n",
       "      <td>10000.0</td>\n",
       "      <td>36 months</td>\n",
       "      <td>13.49%</td>\n",
       "      <td>339.31</td>\n",
       "      <td>C</td>\n",
       "      <td>C1</td>\n",
       "      <td>...</td>\n",
       "      <td>NaN</td>\n",
       "      <td>Apr-16</td>\n",
       "      <td>0.0</td>\n",
       "      <td>1</td>\n",
       "      <td>INDIVIDUAL</td>\n",
       "      <td>0</td>\n",
       "      <td>0.0</td>\n",
       "      <td>0</td>\n",
       "      <td>0.0</td>\n",
       "      <td>0.0</td>\n",
       "    </tr>\n",
       "    <tr>\n",
       "      <th>4</th>\n",
       "      <td>1075358</td>\n",
       "      <td>1311748</td>\n",
       "      <td>3000</td>\n",
       "      <td>3000</td>\n",
       "      <td>3000.0</td>\n",
       "      <td>60 months</td>\n",
       "      <td>12.69%</td>\n",
       "      <td>67.79</td>\n",
       "      <td>B</td>\n",
       "      <td>B5</td>\n",
       "      <td>...</td>\n",
       "      <td>Jun-16</td>\n",
       "      <td>May-16</td>\n",
       "      <td>0.0</td>\n",
       "      <td>1</td>\n",
       "      <td>INDIVIDUAL</td>\n",
       "      <td>0</td>\n",
       "      <td>0.0</td>\n",
       "      <td>0</td>\n",
       "      <td>0.0</td>\n",
       "      <td>0.0</td>\n",
       "    </tr>\n",
       "    <tr>\n",
       "      <th>...</th>\n",
       "      <td>...</td>\n",
       "      <td>...</td>\n",
       "      <td>...</td>\n",
       "      <td>...</td>\n",
       "      <td>...</td>\n",
       "      <td>...</td>\n",
       "      <td>...</td>\n",
       "      <td>...</td>\n",
       "      <td>...</td>\n",
       "      <td>...</td>\n",
       "      <td>...</td>\n",
       "      <td>...</td>\n",
       "      <td>...</td>\n",
       "      <td>...</td>\n",
       "      <td>...</td>\n",
       "      <td>...</td>\n",
       "      <td>...</td>\n",
       "      <td>...</td>\n",
       "      <td>...</td>\n",
       "      <td>...</td>\n",
       "      <td>...</td>\n",
       "    </tr>\n",
       "    <tr>\n",
       "      <th>39712</th>\n",
       "      <td>92187</td>\n",
       "      <td>92174</td>\n",
       "      <td>2500</td>\n",
       "      <td>2500</td>\n",
       "      <td>1075.0</td>\n",
       "      <td>36 months</td>\n",
       "      <td>8.07%</td>\n",
       "      <td>78.42</td>\n",
       "      <td>A</td>\n",
       "      <td>A4</td>\n",
       "      <td>...</td>\n",
       "      <td>NaN</td>\n",
       "      <td>Jun-10</td>\n",
       "      <td>NaN</td>\n",
       "      <td>1</td>\n",
       "      <td>INDIVIDUAL</td>\n",
       "      <td>0</td>\n",
       "      <td>NaN</td>\n",
       "      <td>0</td>\n",
       "      <td>NaN</td>\n",
       "      <td>NaN</td>\n",
       "    </tr>\n",
       "    <tr>\n",
       "      <th>39713</th>\n",
       "      <td>90665</td>\n",
       "      <td>90607</td>\n",
       "      <td>8500</td>\n",
       "      <td>8500</td>\n",
       "      <td>875.0</td>\n",
       "      <td>36 months</td>\n",
       "      <td>10.28%</td>\n",
       "      <td>275.38</td>\n",
       "      <td>C</td>\n",
       "      <td>C1</td>\n",
       "      <td>...</td>\n",
       "      <td>NaN</td>\n",
       "      <td>Jul-10</td>\n",
       "      <td>NaN</td>\n",
       "      <td>1</td>\n",
       "      <td>INDIVIDUAL</td>\n",
       "      <td>0</td>\n",
       "      <td>NaN</td>\n",
       "      <td>0</td>\n",
       "      <td>NaN</td>\n",
       "      <td>NaN</td>\n",
       "    </tr>\n",
       "    <tr>\n",
       "      <th>39714</th>\n",
       "      <td>90395</td>\n",
       "      <td>90390</td>\n",
       "      <td>5000</td>\n",
       "      <td>5000</td>\n",
       "      <td>1325.0</td>\n",
       "      <td>36 months</td>\n",
       "      <td>8.07%</td>\n",
       "      <td>156.84</td>\n",
       "      <td>A</td>\n",
       "      <td>A4</td>\n",
       "      <td>...</td>\n",
       "      <td>NaN</td>\n",
       "      <td>Jun-07</td>\n",
       "      <td>NaN</td>\n",
       "      <td>1</td>\n",
       "      <td>INDIVIDUAL</td>\n",
       "      <td>0</td>\n",
       "      <td>NaN</td>\n",
       "      <td>0</td>\n",
       "      <td>NaN</td>\n",
       "      <td>NaN</td>\n",
       "    </tr>\n",
       "    <tr>\n",
       "      <th>39715</th>\n",
       "      <td>90376</td>\n",
       "      <td>89243</td>\n",
       "      <td>5000</td>\n",
       "      <td>5000</td>\n",
       "      <td>650.0</td>\n",
       "      <td>36 months</td>\n",
       "      <td>7.43%</td>\n",
       "      <td>155.38</td>\n",
       "      <td>A</td>\n",
       "      <td>A2</td>\n",
       "      <td>...</td>\n",
       "      <td>NaN</td>\n",
       "      <td>Jun-07</td>\n",
       "      <td>NaN</td>\n",
       "      <td>1</td>\n",
       "      <td>INDIVIDUAL</td>\n",
       "      <td>0</td>\n",
       "      <td>NaN</td>\n",
       "      <td>0</td>\n",
       "      <td>NaN</td>\n",
       "      <td>NaN</td>\n",
       "    </tr>\n",
       "    <tr>\n",
       "      <th>39716</th>\n",
       "      <td>87023</td>\n",
       "      <td>86999</td>\n",
       "      <td>7500</td>\n",
       "      <td>7500</td>\n",
       "      <td>800.0</td>\n",
       "      <td>36 months</td>\n",
       "      <td>13.75%</td>\n",
       "      <td>255.43</td>\n",
       "      <td>E</td>\n",
       "      <td>E2</td>\n",
       "      <td>...</td>\n",
       "      <td>NaN</td>\n",
       "      <td>Jun-10</td>\n",
       "      <td>NaN</td>\n",
       "      <td>1</td>\n",
       "      <td>INDIVIDUAL</td>\n",
       "      <td>0</td>\n",
       "      <td>NaN</td>\n",
       "      <td>0</td>\n",
       "      <td>NaN</td>\n",
       "      <td>NaN</td>\n",
       "    </tr>\n",
       "  </tbody>\n",
       "</table>\n",
       "<p>39717 rows × 57 columns</p>\n",
       "</div>"
      ],
      "text/plain": [
       "            id  member_id  loan_amnt  funded_amnt  funded_amnt_inv  \\\n",
       "0      1077501    1296599       5000         5000           4975.0   \n",
       "1      1077430    1314167       2500         2500           2500.0   \n",
       "2      1077175    1313524       2400         2400           2400.0   \n",
       "3      1076863    1277178      10000        10000          10000.0   \n",
       "4      1075358    1311748       3000         3000           3000.0   \n",
       "...        ...        ...        ...          ...              ...   \n",
       "39712    92187      92174       2500         2500           1075.0   \n",
       "39713    90665      90607       8500         8500            875.0   \n",
       "39714    90395      90390       5000         5000           1325.0   \n",
       "39715    90376      89243       5000         5000            650.0   \n",
       "39716    87023      86999       7500         7500            800.0   \n",
       "\n",
       "             term int_rate  installment grade sub_grade  ... next_pymnt_d  \\\n",
       "0       36 months   10.65%       162.87     B        B2  ...          NaN   \n",
       "1       60 months   15.27%        59.83     C        C4  ...          NaN   \n",
       "2       36 months   15.96%        84.33     C        C5  ...          NaN   \n",
       "3       36 months   13.49%       339.31     C        C1  ...          NaN   \n",
       "4       60 months   12.69%        67.79     B        B5  ...       Jun-16   \n",
       "...           ...      ...          ...   ...       ...  ...          ...   \n",
       "39712   36 months    8.07%        78.42     A        A4  ...          NaN   \n",
       "39713   36 months   10.28%       275.38     C        C1  ...          NaN   \n",
       "39714   36 months    8.07%       156.84     A        A4  ...          NaN   \n",
       "39715   36 months    7.43%       155.38     A        A2  ...          NaN   \n",
       "39716   36 months   13.75%       255.43     E        E2  ...          NaN   \n",
       "\n",
       "      last_credit_pull_d collections_12_mths_ex_med  policy_code  \\\n",
       "0                 May-16                        0.0            1   \n",
       "1                 Sep-13                        0.0            1   \n",
       "2                 May-16                        0.0            1   \n",
       "3                 Apr-16                        0.0            1   \n",
       "4                 May-16                        0.0            1   \n",
       "...                  ...                        ...          ...   \n",
       "39712             Jun-10                        NaN            1   \n",
       "39713             Jul-10                        NaN            1   \n",
       "39714             Jun-07                        NaN            1   \n",
       "39715             Jun-07                        NaN            1   \n",
       "39716             Jun-10                        NaN            1   \n",
       "\n",
       "      application_type acc_now_delinq chargeoff_within_12_mths delinq_amnt  \\\n",
       "0           INDIVIDUAL              0                      0.0           0   \n",
       "1           INDIVIDUAL              0                      0.0           0   \n",
       "2           INDIVIDUAL              0                      0.0           0   \n",
       "3           INDIVIDUAL              0                      0.0           0   \n",
       "4           INDIVIDUAL              0                      0.0           0   \n",
       "...                ...            ...                      ...         ...   \n",
       "39712       INDIVIDUAL              0                      NaN           0   \n",
       "39713       INDIVIDUAL              0                      NaN           0   \n",
       "39714       INDIVIDUAL              0                      NaN           0   \n",
       "39715       INDIVIDUAL              0                      NaN           0   \n",
       "39716       INDIVIDUAL              0                      NaN           0   \n",
       "\n",
       "      pub_rec_bankruptcies tax_liens  \n",
       "0                      0.0       0.0  \n",
       "1                      0.0       0.0  \n",
       "2                      0.0       0.0  \n",
       "3                      0.0       0.0  \n",
       "4                      0.0       0.0  \n",
       "...                    ...       ...  \n",
       "39712                  NaN       NaN  \n",
       "39713                  NaN       NaN  \n",
       "39714                  NaN       NaN  \n",
       "39715                  NaN       NaN  \n",
       "39716                  NaN       NaN  \n",
       "\n",
       "[39717 rows x 57 columns]"
      ]
     },
     "execution_count": 3,
     "metadata": {},
     "output_type": "execute_result"
    }
   ],
   "source": [
    "df.dropna(axis=1, how='all', inplace=True)\n",
    "\n",
    "df"
   ]
  },
  {
   "cell_type": "markdown",
   "id": "217d6b30",
   "metadata": {
    "papermill": {
     "duration": 0.011669,
     "end_time": "2024-08-12T13:16:33.380185",
     "exception": false,
     "start_time": "2024-08-12T13:16:33.368516",
     "status": "completed"
    },
    "tags": []
   },
   "source": [
    "Checking the null count for the remaining columns."
   ]
  },
  {
   "cell_type": "code",
   "execution_count": 4,
   "id": "1c57086b",
   "metadata": {
    "execution": {
     "iopub.execute_input": "2024-08-12T13:16:33.407956Z",
     "iopub.status.busy": "2024-08-12T13:16:33.406802Z",
     "iopub.status.idle": "2024-08-12T13:16:33.530452Z",
     "shell.execute_reply": "2024-08-12T13:16:33.529271Z"
    },
    "papermill": {
     "duration": 0.140889,
     "end_time": "2024-08-12T13:16:33.533026",
     "exception": false,
     "start_time": "2024-08-12T13:16:33.392137",
     "status": "completed"
    },
    "tags": []
   },
   "outputs": [
    {
     "data": {
      "text/plain": [
       "id                                0\n",
       "member_id                         0\n",
       "loan_amnt                         0\n",
       "funded_amnt                       0\n",
       "funded_amnt_inv                   0\n",
       "term                              0\n",
       "int_rate                          0\n",
       "installment                       0\n",
       "grade                             0\n",
       "sub_grade                         0\n",
       "emp_title                      2459\n",
       "emp_length                     1075\n",
       "home_ownership                    0\n",
       "annual_inc                        0\n",
       "verification_status               0\n",
       "issue_d                           0\n",
       "loan_status                       0\n",
       "pymnt_plan                        0\n",
       "url                               0\n",
       "desc                          12942\n",
       "purpose                           0\n",
       "title                            11\n",
       "zip_code                          0\n",
       "addr_state                        0\n",
       "dti                               0\n",
       "delinq_2yrs                       0\n",
       "earliest_cr_line                  0\n",
       "inq_last_6mths                    0\n",
       "mths_since_last_delinq        25682\n",
       "mths_since_last_record        36931\n",
       "open_acc                          0\n",
       "pub_rec                           0\n",
       "revol_bal                         0\n",
       "revol_util                       50\n",
       "total_acc                         0\n",
       "initial_list_status               0\n",
       "out_prncp                         0\n",
       "out_prncp_inv                     0\n",
       "total_pymnt                       0\n",
       "total_pymnt_inv                   0\n",
       "total_rec_prncp                   0\n",
       "total_rec_int                     0\n",
       "total_rec_late_fee                0\n",
       "recoveries                        0\n",
       "collection_recovery_fee           0\n",
       "last_pymnt_d                     71\n",
       "last_pymnt_amnt                   0\n",
       "next_pymnt_d                  38577\n",
       "last_credit_pull_d                2\n",
       "collections_12_mths_ex_med       56\n",
       "policy_code                       0\n",
       "application_type                  0\n",
       "acc_now_delinq                    0\n",
       "chargeoff_within_12_mths         56\n",
       "delinq_amnt                       0\n",
       "pub_rec_bankruptcies            697\n",
       "tax_liens                        39\n",
       "dtype: int64"
      ]
     },
     "execution_count": 4,
     "metadata": {},
     "output_type": "execute_result"
    }
   ],
   "source": [
    "df.isnull().sum()"
   ]
  },
  {
   "cell_type": "markdown",
   "id": "af17943e",
   "metadata": {
    "papermill": {
     "duration": 0.012538,
     "end_time": "2024-08-12T13:16:33.557534",
     "exception": false,
     "start_time": "2024-08-12T13:16:33.544996",
     "status": "completed"
    },
    "tags": []
   },
   "source": [
    "Dropping the columns where the majority of rows are null. For example, the column `mths_since_last_delinq` has 25682 rows with null values out of the total 39717 rows."
   ]
  },
  {
   "cell_type": "code",
   "execution_count": 5,
   "id": "7ab4dd7b",
   "metadata": {
    "execution": {
     "iopub.execute_input": "2024-08-12T13:16:33.587943Z",
     "iopub.status.busy": "2024-08-12T13:16:33.586444Z",
     "iopub.status.idle": "2024-08-12T13:16:33.611231Z",
     "shell.execute_reply": "2024-08-12T13:16:33.610030Z"
    },
    "papermill": {
     "duration": 0.042426,
     "end_time": "2024-08-12T13:16:33.614120",
     "exception": false,
     "start_time": "2024-08-12T13:16:33.571694",
     "status": "completed"
    },
    "tags": []
   },
   "outputs": [],
   "source": [
    "df.drop(columns=['mths_since_last_record', \n",
    "                 'next_pymnt_d', \n",
    "                 'mths_since_last_delinq'], inplace=True)"
   ]
  },
  {
   "cell_type": "markdown",
   "id": "1d61d4b3",
   "metadata": {
    "papermill": {
     "duration": 0.01186,
     "end_time": "2024-08-12T13:16:33.638693",
     "exception": false,
     "start_time": "2024-08-12T13:16:33.626833",
     "status": "completed"
    },
    "tags": []
   },
   "source": [
    "Checking the number of unique values for the remaining columns."
   ]
  },
  {
   "cell_type": "code",
   "execution_count": 6,
   "id": "a4d8b224",
   "metadata": {
    "execution": {
     "iopub.execute_input": "2024-08-12T13:16:33.665313Z",
     "iopub.status.busy": "2024-08-12T13:16:33.664226Z",
     "iopub.status.idle": "2024-08-12T13:16:33.860831Z",
     "shell.execute_reply": "2024-08-12T13:16:33.859655Z"
    },
    "papermill": {
     "duration": 0.216189,
     "end_time": "2024-08-12T13:16:33.866961",
     "exception": false,
     "start_time": "2024-08-12T13:16:33.650772",
     "status": "completed"
    },
    "tags": []
   },
   "outputs": [
    {
     "data": {
      "text/plain": [
       "id                            39717\n",
       "member_id                     39717\n",
       "loan_amnt                       885\n",
       "funded_amnt                    1041\n",
       "funded_amnt_inv                8205\n",
       "term                              2\n",
       "int_rate                        371\n",
       "installment                   15383\n",
       "grade                             7\n",
       "sub_grade                        35\n",
       "emp_title                     28820\n",
       "emp_length                       11\n",
       "home_ownership                    5\n",
       "annual_inc                     5318\n",
       "verification_status               3\n",
       "issue_d                          55\n",
       "loan_status                       3\n",
       "pymnt_plan                        1\n",
       "url                           39717\n",
       "desc                          26526\n",
       "purpose                          14\n",
       "title                         19615\n",
       "zip_code                        823\n",
       "addr_state                       50\n",
       "dti                            2868\n",
       "delinq_2yrs                      11\n",
       "earliest_cr_line                526\n",
       "inq_last_6mths                    9\n",
       "open_acc                         40\n",
       "pub_rec                           5\n",
       "revol_bal                     21711\n",
       "revol_util                     1089\n",
       "total_acc                        82\n",
       "initial_list_status               1\n",
       "out_prncp                      1137\n",
       "out_prncp_inv                  1138\n",
       "total_pymnt                   37850\n",
       "total_pymnt_inv               37518\n",
       "total_rec_prncp                7976\n",
       "total_rec_int                 35148\n",
       "total_rec_late_fee             1356\n",
       "recoveries                     4040\n",
       "collection_recovery_fee        2616\n",
       "last_pymnt_d                    101\n",
       "last_pymnt_amnt               34930\n",
       "last_credit_pull_d              106\n",
       "collections_12_mths_ex_med        1\n",
       "policy_code                       1\n",
       "application_type                  1\n",
       "acc_now_delinq                    1\n",
       "chargeoff_within_12_mths          1\n",
       "delinq_amnt                       1\n",
       "pub_rec_bankruptcies              3\n",
       "tax_liens                         1\n",
       "dtype: int64"
      ]
     },
     "execution_count": 6,
     "metadata": {},
     "output_type": "execute_result"
    }
   ],
   "source": [
    "unique_counts = df.nunique()\n",
    "unique_counts"
   ]
  },
  {
   "cell_type": "markdown",
   "id": "96dc8c85",
   "metadata": {
    "papermill": {
     "duration": 0.022538,
     "end_time": "2024-08-12T13:16:33.905672",
     "exception": false,
     "start_time": "2024-08-12T13:16:33.883134",
     "status": "completed"
    },
    "tags": []
   },
   "source": [
    "Dropping the columns where the value in each row is unique. We also drop the columns that have the same value across all rows. Both cases do not display any pattern that can help predict the loan grade of the individual."
   ]
  },
  {
   "cell_type": "code",
   "execution_count": 7,
   "id": "199155e8",
   "metadata": {
    "execution": {
     "iopub.execute_input": "2024-08-12T13:16:33.941698Z",
     "iopub.status.busy": "2024-08-12T13:16:33.941112Z",
     "iopub.status.idle": "2024-08-12T13:16:33.966378Z",
     "shell.execute_reply": "2024-08-12T13:16:33.965238Z"
    },
    "papermill": {
     "duration": 0.048873,
     "end_time": "2024-08-12T13:16:33.969604",
     "exception": false,
     "start_time": "2024-08-12T13:16:33.920731",
     "status": "completed"
    },
    "tags": []
   },
   "outputs": [],
   "source": [
    "columns_to_drop = unique_counts[(unique_counts == df.shape[0]) | (unique_counts == 1)].index\n",
    "df.drop(columns=columns_to_drop, inplace=True)"
   ]
  },
  {
   "cell_type": "markdown",
   "id": "c1fc2a45",
   "metadata": {
    "papermill": {
     "duration": 0.018142,
     "end_time": "2024-08-12T13:16:34.006012",
     "exception": false,
     "start_time": "2024-08-12T13:16:33.987870",
     "status": "completed"
    },
    "tags": []
   },
   "source": [
    "Now we must engineer the features to prepare the data for model training.\n",
    "\n",
    "Our target feature in this dataset is `grade`. This represents the loan grade of the individual. We will use ordinal encoding since this feature has inherent order in its values."
   ]
  },
  {
   "cell_type": "code",
   "execution_count": 8,
   "id": "b09bed21",
   "metadata": {
    "execution": {
     "iopub.execute_input": "2024-08-12T13:16:34.041911Z",
     "iopub.status.busy": "2024-08-12T13:16:34.040693Z",
     "iopub.status.idle": "2024-08-12T13:16:34.064883Z",
     "shell.execute_reply": "2024-08-12T13:16:34.063682Z"
    },
    "papermill": {
     "duration": 0.044657,
     "end_time": "2024-08-12T13:16:34.067758",
     "exception": false,
     "start_time": "2024-08-12T13:16:34.023101",
     "status": "completed"
    },
    "tags": []
   },
   "outputs": [],
   "source": [
    "encoder = OrdinalEncoder(categories=[['A', 'B', 'C', 'D', 'E', 'F', 'G']])\n",
    "encoded_grades = encoder.fit_transform(df[['grade']])\n",
    "df['grade'] = encoded_grades.astype(int)"
   ]
  },
  {
   "cell_type": "markdown",
   "id": "f4cef9dd",
   "metadata": {
    "papermill": {
     "duration": 0.014451,
     "end_time": "2024-08-12T13:16:34.095074",
     "exception": false,
     "start_time": "2024-08-12T13:16:34.080623",
     "status": "completed"
    },
    "tags": []
   },
   "source": [
    "Some features have values with string elements such as `%` along with a number. The number portion of the values were extracted."
   ]
  },
  {
   "cell_type": "code",
   "execution_count": 9,
   "id": "a58f2e8e",
   "metadata": {
    "execution": {
     "iopub.execute_input": "2024-08-12T13:16:34.123207Z",
     "iopub.status.busy": "2024-08-12T13:16:34.122777Z",
     "iopub.status.idle": "2024-08-12T13:16:34.235434Z",
     "shell.execute_reply": "2024-08-12T13:16:34.234286Z"
    },
    "papermill": {
     "duration": 0.130248,
     "end_time": "2024-08-12T13:16:34.238681",
     "exception": false,
     "start_time": "2024-08-12T13:16:34.108433",
     "status": "completed"
    },
    "tags": []
   },
   "outputs": [],
   "source": [
    "df['int_rate_'] = df['int_rate'].str.replace('%', '').astype(float)\n",
    "df['emp_length_'] = df.emp_length.str[:2].str.strip().replace('<', '0').astype(float)\n",
    "df['revol_util_'] = df.revol_util.str[:-1].astype(float)"
   ]
  },
  {
   "cell_type": "markdown",
   "id": "07104f57",
   "metadata": {
    "papermill": {
     "duration": 0.014364,
     "end_time": "2024-08-12T13:16:34.267110",
     "exception": false,
     "start_time": "2024-08-12T13:16:34.252746",
     "status": "completed"
    },
    "tags": []
   },
   "source": [
    "Some features were in date format. To convert them to numeric format, the earliest date was taken as the reference and the number of elapsed months was calculated by subtracting the reference date from the current date."
   ]
  },
  {
   "cell_type": "code",
   "execution_count": 10,
   "id": "fa36b59b",
   "metadata": {
    "execution": {
     "iopub.execute_input": "2024-08-12T13:16:34.293762Z",
     "iopub.status.busy": "2024-08-12T13:16:34.293361Z",
     "iopub.status.idle": "2024-08-12T13:16:34.369504Z",
     "shell.execute_reply": "2024-08-12T13:16:34.368408Z"
    },
    "papermill": {
     "duration": 0.092756,
     "end_time": "2024-08-12T13:16:34.372314",
     "exception": false,
     "start_time": "2024-08-12T13:16:34.279558",
     "status": "completed"
    },
    "tags": []
   },
   "outputs": [],
   "source": [
    "for date_col in ['earliest_cr_line', 'issue_d', 'last_pymnt_d', 'last_credit_pull_d']:\n",
    "    df[date_col] = pd.to_datetime(df[date_col], format='%b-%y')\n",
    "\n",
    "# `earliest_cr_line` feature is calculated separately because its earliest date is 1969\n",
    "elapsed_months = (df['earliest_cr_line'].dt.year - df['earliest_cr_line'].min().year) * 12 + (df['earliest_cr_line'].dt.month - df['earliest_cr_line'].min().month)\n",
    "df['earliest_cr_line'] = elapsed_months\n",
    "\n",
    "# Calculating for other date features | January 2007 was selected because the dataset is b/w 2007-2011\n",
    "earliest_ref_d = pd.to_datetime('2007-01-01')\n",
    "\n",
    "for date_col in ['issue_d', 'last_pymnt_d', 'last_credit_pull_d']:\n",
    "    elapsed_months = (df[date_col].dt.year - earliest_ref_d.year) * 12 + (df[date_col].dt.month - earliest_ref_d.month)\n",
    "    df[date_col] = elapsed_months"
   ]
  },
  {
   "cell_type": "markdown",
   "id": "53271e6d",
   "metadata": {
    "papermill": {
     "duration": 0.012179,
     "end_time": "2024-08-12T13:16:34.396923",
     "exception": false,
     "start_time": "2024-08-12T13:16:34.384744",
     "status": "completed"
    },
    "tags": []
   },
   "source": [
    "The `term` feature only had two possible values, ` 36 months` and ` 60 months`. So it was label encoded.\n",
    "\n",
    "The `home_ownership` feature was one-hot encoded as it only had three categories."
   ]
  },
  {
   "cell_type": "code",
   "execution_count": 11,
   "id": "78b4a588",
   "metadata": {
    "execution": {
     "iopub.execute_input": "2024-08-12T13:16:34.426707Z",
     "iopub.status.busy": "2024-08-12T13:16:34.426013Z",
     "iopub.status.idle": "2024-08-12T13:16:34.482262Z",
     "shell.execute_reply": "2024-08-12T13:16:34.481224Z"
    },
    "papermill": {
     "duration": 0.074469,
     "end_time": "2024-08-12T13:16:34.485022",
     "exception": false,
     "start_time": "2024-08-12T13:16:34.410553",
     "status": "completed"
    },
    "tags": []
   },
   "outputs": [],
   "source": [
    "# Label encoding\n",
    "df['term_'] = df['term'].map({' 36 months': 0, ' 60 months': 1})\n",
    "\n",
    "# One-hot encoding\n",
    "df = pd.get_dummies(df, columns=['home_ownership'])\n",
    "\n",
    "# Converting the dummy boolean columns to 0 and 1s\n",
    "boolean_cols = df.select_dtypes(include='bool').columns\n",
    "df[boolean_cols] = df[boolean_cols].astype(int)"
   ]
  },
  {
   "cell_type": "markdown",
   "id": "02abf067",
   "metadata": {
    "papermill": {
     "duration": 0.011984,
     "end_time": "2024-08-12T13:16:34.509671",
     "exception": false,
     "start_time": "2024-08-12T13:16:34.497687",
     "status": "completed"
    },
    "tags": []
   },
   "source": [
    "Some features such as `purpose`, `zip_code`, and `addr_state` had a large number of unique categories (high cardinality). If one-hot encoding were to be applied, then we would have a large number of features. This in turn would spread out the data points, making it difficult to find meaningful patterns in data. For this reason, target encoding was used. The mean of the encoded target feature, `grade` in our case, was calculated for each unique category of the above-mentioned features. The mean values were then used for each category, converting the categorical values to numerical values."
   ]
  },
  {
   "cell_type": "code",
   "execution_count": 12,
   "id": "6a3c65cf",
   "metadata": {
    "execution": {
     "iopub.execute_input": "2024-08-12T13:16:34.536238Z",
     "iopub.status.busy": "2024-08-12T13:16:34.535835Z",
     "iopub.status.idle": "2024-08-12T13:16:34.574290Z",
     "shell.execute_reply": "2024-08-12T13:16:34.573296Z"
    },
    "papermill": {
     "duration": 0.054793,
     "end_time": "2024-08-12T13:16:34.577039",
     "exception": false,
     "start_time": "2024-08-12T13:16:34.522246",
     "status": "completed"
    },
    "tags": []
   },
   "outputs": [],
   "source": [
    "# Target encoding\n",
    "for col in ['purpose', 'zip_code', 'addr_state']:\n",
    "    df[col] = df[col].map(df.groupby(col)['grade'].mean())"
   ]
  },
  {
   "cell_type": "raw",
   "id": "926ecfaf",
   "metadata": {
    "papermill": {
     "duration": 0.012184,
     "end_time": "2024-08-12T13:16:34.601783",
     "exception": false,
     "start_time": "2024-08-12T13:16:34.589599",
     "status": "completed"
    },
    "tags": []
   },
   "source": [
    "Some features such as `loan_status` and `verification_status` were ordinally encoded due to the inherent order of their categories."
   ]
  },
  {
   "cell_type": "code",
   "execution_count": 13,
   "id": "ba58ddc3",
   "metadata": {
    "execution": {
     "iopub.execute_input": "2024-08-12T13:16:34.628636Z",
     "iopub.status.busy": "2024-08-12T13:16:34.628187Z",
     "iopub.status.idle": "2024-08-12T13:16:34.646502Z",
     "shell.execute_reply": "2024-08-12T13:16:34.645572Z"
    },
    "papermill": {
     "duration": 0.034782,
     "end_time": "2024-08-12T13:16:34.649261",
     "exception": false,
     "start_time": "2024-08-12T13:16:34.614479",
     "status": "completed"
    },
    "tags": []
   },
   "outputs": [],
   "source": [
    "df['loan_status_'] = df['loan_status'].map({'Charged Off': 0,\n",
    "                                            'Current': 1,\n",
    "                                            'Fully Paid': 2})\n",
    "df['verification_status_'] = df['verification_status'].map({'Not Verified': 0,\n",
    "                                                            'Verified': 1,\n",
    "                                                            'Source Verified': 2})"
   ]
  },
  {
   "cell_type": "markdown",
   "id": "3b47bf25",
   "metadata": {
    "papermill": {
     "duration": 0.012323,
     "end_time": "2024-08-12T13:16:34.674481",
     "exception": false,
     "start_time": "2024-08-12T13:16:34.662158",
     "status": "completed"
    },
    "tags": []
   },
   "source": [
    "Some features with names that ended with `_inv` were removed as they had very similar values with certain other columns."
   ]
  },
  {
   "cell_type": "code",
   "execution_count": 14,
   "id": "8626eec5",
   "metadata": {
    "execution": {
     "iopub.execute_input": "2024-08-12T13:16:34.701663Z",
     "iopub.status.busy": "2024-08-12T13:16:34.701266Z",
     "iopub.status.idle": "2024-08-12T13:16:34.718801Z",
     "shell.execute_reply": "2024-08-12T13:16:34.717830Z"
    },
    "papermill": {
     "duration": 0.034149,
     "end_time": "2024-08-12T13:16:34.721451",
     "exception": false,
     "start_time": "2024-08-12T13:16:34.687302",
     "status": "completed"
    },
    "tags": []
   },
   "outputs": [],
   "source": [
    "# Dropping the old columns after the above changes\n",
    "df.drop(columns=['term',\n",
    "                 'int_rate',\n",
    "                 'loan_status',\n",
    "                 'emp_length',\n",
    "                 'verification_status',\n",
    "                 'revol_util',\n",
    "                 'home_ownership_NONE',   # mostly 0 values\n",
    "                 'out_prncp',             # ditto\n",
    "                 'home_ownership_OTHER',  # ditto\n",
    "                 'desc',                  # irrelevant\n",
    "                 'earliest_cr_line',      # ditto\n",
    "                 'title',                 # ditto\n",
    "                 'emp_title',             # too many categories (28820)\n",
    "                 'sub_grade',             # an extension of the target feature\n",
    "                ], inplace=True)\n",
    "\n",
    "df.drop(columns=df.columns[df.columns.str[-4:] == '_inv'], inplace=True)"
   ]
  },
  {
   "cell_type": "markdown",
   "id": "21ac834e",
   "metadata": {
    "papermill": {
     "duration": 0.012377,
     "end_time": "2024-08-12T13:16:34.748143",
     "exception": false,
     "start_time": "2024-08-12T13:16:34.735766",
     "status": "completed"
    },
    "tags": []
   },
   "source": [
    "Normalization of features is unnecessary since tree-based algorithms can handle the large differences in feature scales. Some features still have missing values. XGBoost can handle them as well.\n",
    "\n",
    "Now we can split the dataset into training, validation, and test sets with 60-20-20 splits."
   ]
  },
  {
   "cell_type": "code",
   "execution_count": 15,
   "id": "1773fb2c",
   "metadata": {
    "execution": {
     "iopub.execute_input": "2024-08-12T13:16:34.775855Z",
     "iopub.status.busy": "2024-08-12T13:16:34.775472Z",
     "iopub.status.idle": "2024-08-12T13:16:34.833809Z",
     "shell.execute_reply": "2024-08-12T13:16:34.832591Z"
    },
    "papermill": {
     "duration": 0.07578,
     "end_time": "2024-08-12T13:16:34.836688",
     "exception": false,
     "start_time": "2024-08-12T13:16:34.760908",
     "status": "completed"
    },
    "tags": []
   },
   "outputs": [],
   "source": [
    "X = df.drop('grade', axis=1)\n",
    "y = df['grade']\n",
    "\n",
    "X_train, X_temp, y_train, y_temp = train_test_split(X, y, test_size=0.4, stratify=y, random_state=42)\n",
    "X_val, X_test, y_val, y_test = train_test_split(X_temp, y_temp, test_size=0.5, stratify=y_temp, random_state=42)"
   ]
  },
  {
   "cell_type": "markdown",
   "id": "4e61f424",
   "metadata": {
    "papermill": {
     "duration": 0.012423,
     "end_time": "2024-08-12T13:16:34.862091",
     "exception": false,
     "start_time": "2024-08-12T13:16:34.849668",
     "status": "completed"
    },
    "tags": []
   },
   "source": [
    "We can train an XGBoost model on the training and validation sets. Validation set is used during training to enable early stopping of the model. This helps prevent overfitting.\n",
    "\n",
    "After training, we can evaluate the model on the test set to measure its performance on unseen data."
   ]
  },
  {
   "cell_type": "code",
   "execution_count": 16,
   "id": "409393ce",
   "metadata": {
    "execution": {
     "iopub.execute_input": "2024-08-12T13:16:34.889365Z",
     "iopub.status.busy": "2024-08-12T13:16:34.888903Z",
     "iopub.status.idle": "2024-08-12T13:16:37.749143Z",
     "shell.execute_reply": "2024-08-12T13:16:37.748194Z"
    },
    "papermill": {
     "duration": 2.876681,
     "end_time": "2024-08-12T13:16:37.751604",
     "exception": false,
     "start_time": "2024-08-12T13:16:34.874923",
     "status": "completed"
    },
    "tags": []
   },
   "outputs": [
    {
     "name": "stdout",
     "output_type": "stream",
     "text": [
      "[0]\tvalidation_0-mlogloss:1.05611\n",
      "[1]\tvalidation_0-mlogloss:0.72802\n",
      "[2]\tvalidation_0-mlogloss:0.52976\n",
      "[3]\tvalidation_0-mlogloss:0.39417\n",
      "[4]\tvalidation_0-mlogloss:0.29663\n",
      "[5]\tvalidation_0-mlogloss:0.22773\n",
      "[6]\tvalidation_0-mlogloss:0.17591\n",
      "[7]\tvalidation_0-mlogloss:0.13799\n",
      "[8]\tvalidation_0-mlogloss:0.10980\n",
      "[9]\tvalidation_0-mlogloss:0.08945\n",
      "[10]\tvalidation_0-mlogloss:0.07311\n",
      "[11]\tvalidation_0-mlogloss:0.06078\n",
      "[12]\tvalidation_0-mlogloss:0.05169\n",
      "[13]\tvalidation_0-mlogloss:0.04472\n",
      "[14]\tvalidation_0-mlogloss:0.03933\n",
      "[15]\tvalidation_0-mlogloss:0.03482\n",
      "[16]\tvalidation_0-mlogloss:0.03132\n",
      "[17]\tvalidation_0-mlogloss:0.02876\n",
      "[18]\tvalidation_0-mlogloss:0.02670\n",
      "[19]\tvalidation_0-mlogloss:0.02508\n",
      "[20]\tvalidation_0-mlogloss:0.02367\n",
      "[21]\tvalidation_0-mlogloss:0.02247\n",
      "[22]\tvalidation_0-mlogloss:0.02169\n",
      "[23]\tvalidation_0-mlogloss:0.02112\n",
      "[24]\tvalidation_0-mlogloss:0.01990\n",
      "[25]\tvalidation_0-mlogloss:0.01938\n",
      "[26]\tvalidation_0-mlogloss:0.01906\n",
      "[27]\tvalidation_0-mlogloss:0.01845\n",
      "[28]\tvalidation_0-mlogloss:0.01801\n",
      "[29]\tvalidation_0-mlogloss:0.01777\n",
      "[30]\tvalidation_0-mlogloss:0.01742\n",
      "[31]\tvalidation_0-mlogloss:0.01719\n",
      "[32]\tvalidation_0-mlogloss:0.01673\n",
      "[33]\tvalidation_0-mlogloss:0.01657\n",
      "[34]\tvalidation_0-mlogloss:0.01629\n",
      "[35]\tvalidation_0-mlogloss:0.01607\n",
      "[36]\tvalidation_0-mlogloss:0.01590\n",
      "[37]\tvalidation_0-mlogloss:0.01572\n",
      "[38]\tvalidation_0-mlogloss:0.01563\n",
      "[39]\tvalidation_0-mlogloss:0.01551\n",
      "[40]\tvalidation_0-mlogloss:0.01530\n",
      "[41]\tvalidation_0-mlogloss:0.01510\n",
      "[42]\tvalidation_0-mlogloss:0.01506\n",
      "[43]\tvalidation_0-mlogloss:0.01497\n",
      "[44]\tvalidation_0-mlogloss:0.01487\n",
      "[45]\tvalidation_0-mlogloss:0.01490\n",
      "[46]\tvalidation_0-mlogloss:0.01474\n",
      "[47]\tvalidation_0-mlogloss:0.01467\n",
      "[48]\tvalidation_0-mlogloss:0.01454\n",
      "[49]\tvalidation_0-mlogloss:0.01439\n",
      "[50]\tvalidation_0-mlogloss:0.01437\n",
      "[51]\tvalidation_0-mlogloss:0.01434\n",
      "[52]\tvalidation_0-mlogloss:0.01424\n",
      "[53]\tvalidation_0-mlogloss:0.01417\n",
      "[54]\tvalidation_0-mlogloss:0.01403\n",
      "[55]\tvalidation_0-mlogloss:0.01401\n",
      "[56]\tvalidation_0-mlogloss:0.01394\n",
      "[57]\tvalidation_0-mlogloss:0.01391\n",
      "[58]\tvalidation_0-mlogloss:0.01394\n",
      "[59]\tvalidation_0-mlogloss:0.01395\n",
      "[60]\tvalidation_0-mlogloss:0.01397\n",
      "[61]\tvalidation_0-mlogloss:0.01382\n",
      "[62]\tvalidation_0-mlogloss:0.01380\n",
      "[63]\tvalidation_0-mlogloss:0.01378\n",
      "[64]\tvalidation_0-mlogloss:0.01381\n",
      "[65]\tvalidation_0-mlogloss:0.01384\n",
      "[66]\tvalidation_0-mlogloss:0.01380\n",
      "[67]\tvalidation_0-mlogloss:0.01375\n",
      "[68]\tvalidation_0-mlogloss:0.01379\n",
      "[69]\tvalidation_0-mlogloss:0.01378\n",
      "[70]\tvalidation_0-mlogloss:0.01376\n",
      "[71]\tvalidation_0-mlogloss:0.01378\n",
      "[72]\tvalidation_0-mlogloss:0.01378\n",
      "[73]\tvalidation_0-mlogloss:0.01377\n",
      "[74]\tvalidation_0-mlogloss:0.01375\n",
      "[75]\tvalidation_0-mlogloss:0.01378\n",
      "[76]\tvalidation_0-mlogloss:0.01375\n",
      "[77]\tvalidation_0-mlogloss:0.01376\n",
      "[78]\tvalidation_0-mlogloss:0.01373\n",
      "[79]\tvalidation_0-mlogloss:0.01372\n",
      "[80]\tvalidation_0-mlogloss:0.01371\n",
      "[81]\tvalidation_0-mlogloss:0.01377\n",
      "[82]\tvalidation_0-mlogloss:0.01377\n",
      "[83]\tvalidation_0-mlogloss:0.01381\n",
      "[84]\tvalidation_0-mlogloss:0.01384\n",
      "[85]\tvalidation_0-mlogloss:0.01382\n",
      "[86]\tvalidation_0-mlogloss:0.01384\n",
      "[87]\tvalidation_0-mlogloss:0.01381\n",
      "[88]\tvalidation_0-mlogloss:0.01382\n",
      "[89]\tvalidation_0-mlogloss:0.01379\n",
      "[90]\tvalidation_0-mlogloss:0.01382\n"
     ]
    },
    {
     "data": {
      "text/html": [
       "<style>#sk-container-id-1 {color: black;background-color: white;}#sk-container-id-1 pre{padding: 0;}#sk-container-id-1 div.sk-toggleable {background-color: white;}#sk-container-id-1 label.sk-toggleable__label {cursor: pointer;display: block;width: 100%;margin-bottom: 0;padding: 0.3em;box-sizing: border-box;text-align: center;}#sk-container-id-1 label.sk-toggleable__label-arrow:before {content: \"▸\";float: left;margin-right: 0.25em;color: #696969;}#sk-container-id-1 label.sk-toggleable__label-arrow:hover:before {color: black;}#sk-container-id-1 div.sk-estimator:hover label.sk-toggleable__label-arrow:before {color: black;}#sk-container-id-1 div.sk-toggleable__content {max-height: 0;max-width: 0;overflow: hidden;text-align: left;background-color: #f0f8ff;}#sk-container-id-1 div.sk-toggleable__content pre {margin: 0.2em;color: black;border-radius: 0.25em;background-color: #f0f8ff;}#sk-container-id-1 input.sk-toggleable__control:checked~div.sk-toggleable__content {max-height: 200px;max-width: 100%;overflow: auto;}#sk-container-id-1 input.sk-toggleable__control:checked~label.sk-toggleable__label-arrow:before {content: \"▾\";}#sk-container-id-1 div.sk-estimator input.sk-toggleable__control:checked~label.sk-toggleable__label {background-color: #d4ebff;}#sk-container-id-1 div.sk-label input.sk-toggleable__control:checked~label.sk-toggleable__label {background-color: #d4ebff;}#sk-container-id-1 input.sk-hidden--visually {border: 0;clip: rect(1px 1px 1px 1px);clip: rect(1px, 1px, 1px, 1px);height: 1px;margin: -1px;overflow: hidden;padding: 0;position: absolute;width: 1px;}#sk-container-id-1 div.sk-estimator {font-family: monospace;background-color: #f0f8ff;border: 1px dotted black;border-radius: 0.25em;box-sizing: border-box;margin-bottom: 0.5em;}#sk-container-id-1 div.sk-estimator:hover {background-color: #d4ebff;}#sk-container-id-1 div.sk-parallel-item::after {content: \"\";width: 100%;border-bottom: 1px solid gray;flex-grow: 1;}#sk-container-id-1 div.sk-label:hover label.sk-toggleable__label {background-color: #d4ebff;}#sk-container-id-1 div.sk-serial::before {content: \"\";position: absolute;border-left: 1px solid gray;box-sizing: border-box;top: 0;bottom: 0;left: 50%;z-index: 0;}#sk-container-id-1 div.sk-serial {display: flex;flex-direction: column;align-items: center;background-color: white;padding-right: 0.2em;padding-left: 0.2em;position: relative;}#sk-container-id-1 div.sk-item {position: relative;z-index: 1;}#sk-container-id-1 div.sk-parallel {display: flex;align-items: stretch;justify-content: center;background-color: white;position: relative;}#sk-container-id-1 div.sk-item::before, #sk-container-id-1 div.sk-parallel-item::before {content: \"\";position: absolute;border-left: 1px solid gray;box-sizing: border-box;top: 0;bottom: 0;left: 50%;z-index: -1;}#sk-container-id-1 div.sk-parallel-item {display: flex;flex-direction: column;z-index: 1;position: relative;background-color: white;}#sk-container-id-1 div.sk-parallel-item:first-child::after {align-self: flex-end;width: 50%;}#sk-container-id-1 div.sk-parallel-item:last-child::after {align-self: flex-start;width: 50%;}#sk-container-id-1 div.sk-parallel-item:only-child::after {width: 0;}#sk-container-id-1 div.sk-dashed-wrapped {border: 1px dashed gray;margin: 0 0.4em 0.5em 0.4em;box-sizing: border-box;padding-bottom: 0.4em;background-color: white;}#sk-container-id-1 div.sk-label label {font-family: monospace;font-weight: bold;display: inline-block;line-height: 1.2em;}#sk-container-id-1 div.sk-label-container {text-align: center;}#sk-container-id-1 div.sk-container {/* jupyter's `normalize.less` sets `[hidden] { display: none; }` but bootstrap.min.css set `[hidden] { display: none !important; }` so we also need the `!important` here to be able to override the default hidden behavior on the sphinx rendered scikit-learn.org. See: https://github.com/scikit-learn/scikit-learn/issues/21755 */display: inline-block !important;position: relative;}#sk-container-id-1 div.sk-text-repr-fallback {display: none;}</style><div id=\"sk-container-id-1\" class=\"sk-top-container\"><div class=\"sk-text-repr-fallback\"><pre>XGBClassifier(base_score=None, booster=None, callbacks=None,\n",
       "              colsample_bylevel=None, colsample_bynode=None,\n",
       "              colsample_bytree=None, device=None, early_stopping_rounds=10,\n",
       "              enable_categorical=False, eval_metric=&#x27;mlogloss&#x27;,\n",
       "              feature_types=None, gamma=None, grow_policy=None,\n",
       "              importance_type=None, interaction_constraints=None,\n",
       "              learning_rate=None, max_bin=None, max_cat_threshold=None,\n",
       "              max_cat_to_onehot=None, max_delta_step=None, max_depth=None,\n",
       "              max_leaves=None, min_child_weight=None, missing=nan,\n",
       "              monotone_constraints=None, multi_strategy=None, n_estimators=100,\n",
       "              n_jobs=None, num_parallel_tree=None, objective=&#x27;multi:softmax&#x27;, ...)</pre><b>In a Jupyter environment, please rerun this cell to show the HTML representation or trust the notebook. <br />On GitHub, the HTML representation is unable to render, please try loading this page with nbviewer.org.</b></div><div class=\"sk-container\" hidden><div class=\"sk-item\"><div class=\"sk-estimator sk-toggleable\"><input class=\"sk-toggleable__control sk-hidden--visually\" id=\"sk-estimator-id-1\" type=\"checkbox\" checked><label for=\"sk-estimator-id-1\" class=\"sk-toggleable__label sk-toggleable__label-arrow\">XGBClassifier</label><div class=\"sk-toggleable__content\"><pre>XGBClassifier(base_score=None, booster=None, callbacks=None,\n",
       "              colsample_bylevel=None, colsample_bynode=None,\n",
       "              colsample_bytree=None, device=None, early_stopping_rounds=10,\n",
       "              enable_categorical=False, eval_metric=&#x27;mlogloss&#x27;,\n",
       "              feature_types=None, gamma=None, grow_policy=None,\n",
       "              importance_type=None, interaction_constraints=None,\n",
       "              learning_rate=None, max_bin=None, max_cat_threshold=None,\n",
       "              max_cat_to_onehot=None, max_delta_step=None, max_depth=None,\n",
       "              max_leaves=None, min_child_weight=None, missing=nan,\n",
       "              monotone_constraints=None, multi_strategy=None, n_estimators=100,\n",
       "              n_jobs=None, num_parallel_tree=None, objective=&#x27;multi:softmax&#x27;, ...)</pre></div></div></div></div></div>"
      ],
      "text/plain": [
       "XGBClassifier(base_score=None, booster=None, callbacks=None,\n",
       "              colsample_bylevel=None, colsample_bynode=None,\n",
       "              colsample_bytree=None, device=None, early_stopping_rounds=10,\n",
       "              enable_categorical=False, eval_metric='mlogloss',\n",
       "              feature_types=None, gamma=None, grow_policy=None,\n",
       "              importance_type=None, interaction_constraints=None,\n",
       "              learning_rate=None, max_bin=None, max_cat_threshold=None,\n",
       "              max_cat_to_onehot=None, max_delta_step=None, max_depth=None,\n",
       "              max_leaves=None, min_child_weight=None, missing=nan,\n",
       "              monotone_constraints=None, multi_strategy=None, n_estimators=100,\n",
       "              n_jobs=None, num_parallel_tree=None, objective='multi:softmax', ...)"
      ]
     },
     "execution_count": 16,
     "metadata": {},
     "output_type": "execute_result"
    }
   ],
   "source": [
    "model = XGBClassifier(\n",
    "    objective='multi:softmax',\n",
    "    eval_metric='mlogloss',\n",
    "    use_label_encoder=False,\n",
    "    n_estimators=100,\n",
    "    early_stopping_rounds=10\n",
    ")\n",
    "\n",
    "model.fit(\n",
    "    X_train, y_train,\n",
    "    eval_set=[(X_val, y_val)],\n",
    "    verbose=True,\n",
    ")"
   ]
  },
  {
   "cell_type": "code",
   "execution_count": 17,
   "id": "35219785",
   "metadata": {
    "execution": {
     "iopub.execute_input": "2024-08-12T13:16:37.798868Z",
     "iopub.status.busy": "2024-08-12T13:16:37.797814Z",
     "iopub.status.idle": "2024-08-12T13:16:37.880863Z",
     "shell.execute_reply": "2024-08-12T13:16:37.879659Z"
    },
    "papermill": {
     "duration": 0.109831,
     "end_time": "2024-08-12T13:16:37.883514",
     "exception": false,
     "start_time": "2024-08-12T13:16:37.773683",
     "status": "completed"
    },
    "tags": []
   },
   "outputs": [
    {
     "name": "stdout",
     "output_type": "stream",
     "text": [
      "Accuracy on test set: 0.9953423967774421\n",
      "              precision    recall  f1-score   support\n",
      "\n",
      "           0       1.00      1.00      1.00      2017\n",
      "           1       1.00      1.00      1.00      2404\n",
      "           2       1.00      1.00      1.00      1620\n",
      "           3       0.99      0.99      0.99      1062\n",
      "           4       0.98      0.98      0.98       568\n",
      "           5       0.97      0.97      0.97       210\n",
      "           6       0.93      0.90      0.92        63\n",
      "\n",
      "    accuracy                           1.00      7944\n",
      "   macro avg       0.98      0.98      0.98      7944\n",
      "weighted avg       1.00      1.00      1.00      7944\n",
      "\n"
     ]
    }
   ],
   "source": [
    "y_pred = model.predict(X_test)\n",
    "print(\"Accuracy on test set:\", accuracy_score(y_test, y_pred))\n",
    "print(classification_report(y_test, y_pred))"
   ]
  },
  {
   "cell_type": "markdown",
   "id": "d8a2580e",
   "metadata": {
    "papermill": {
     "duration": 0.022023,
     "end_time": "2024-08-12T13:16:37.927875",
     "exception": false,
     "start_time": "2024-08-12T13:16:37.905852",
     "status": "completed"
    },
    "tags": []
   },
   "source": [
    "We must tune the hyperparameters to achieve better model performance. We can use random search to search for the optimal hyperparameters.\n",
    "\n",
    "We rejoined the training and validation sets since the `RandomizedSearchCV` class performs cross-validation.\n",
    "\n",
    "After finding the optimal hyperparameters, we evaluate the model on the test set."
   ]
  },
  {
   "cell_type": "code",
   "execution_count": 18,
   "id": "cc5cb211",
   "metadata": {
    "execution": {
     "iopub.execute_input": "2024-08-12T13:16:37.974713Z",
     "iopub.status.busy": "2024-08-12T13:16:37.973675Z",
     "iopub.status.idle": "2024-08-12T13:34:23.038375Z",
     "shell.execute_reply": "2024-08-12T13:34:23.037231Z"
    },
    "papermill": {
     "duration": 1065.114152,
     "end_time": "2024-08-12T13:34:23.064267",
     "exception": false,
     "start_time": "2024-08-12T13:16:37.950115",
     "status": "completed"
    },
    "tags": []
   },
   "outputs": [
    {
     "name": "stdout",
     "output_type": "stream",
     "text": [
      "Fitting 5 folds for each of 30 candidates, totalling 150 fits\n"
     ]
    },
    {
     "data": {
      "text/html": [
       "<style>#sk-container-id-2 {color: black;background-color: white;}#sk-container-id-2 pre{padding: 0;}#sk-container-id-2 div.sk-toggleable {background-color: white;}#sk-container-id-2 label.sk-toggleable__label {cursor: pointer;display: block;width: 100%;margin-bottom: 0;padding: 0.3em;box-sizing: border-box;text-align: center;}#sk-container-id-2 label.sk-toggleable__label-arrow:before {content: \"▸\";float: left;margin-right: 0.25em;color: #696969;}#sk-container-id-2 label.sk-toggleable__label-arrow:hover:before {color: black;}#sk-container-id-2 div.sk-estimator:hover label.sk-toggleable__label-arrow:before {color: black;}#sk-container-id-2 div.sk-toggleable__content {max-height: 0;max-width: 0;overflow: hidden;text-align: left;background-color: #f0f8ff;}#sk-container-id-2 div.sk-toggleable__content pre {margin: 0.2em;color: black;border-radius: 0.25em;background-color: #f0f8ff;}#sk-container-id-2 input.sk-toggleable__control:checked~div.sk-toggleable__content {max-height: 200px;max-width: 100%;overflow: auto;}#sk-container-id-2 input.sk-toggleable__control:checked~label.sk-toggleable__label-arrow:before {content: \"▾\";}#sk-container-id-2 div.sk-estimator input.sk-toggleable__control:checked~label.sk-toggleable__label {background-color: #d4ebff;}#sk-container-id-2 div.sk-label input.sk-toggleable__control:checked~label.sk-toggleable__label {background-color: #d4ebff;}#sk-container-id-2 input.sk-hidden--visually {border: 0;clip: rect(1px 1px 1px 1px);clip: rect(1px, 1px, 1px, 1px);height: 1px;margin: -1px;overflow: hidden;padding: 0;position: absolute;width: 1px;}#sk-container-id-2 div.sk-estimator {font-family: monospace;background-color: #f0f8ff;border: 1px dotted black;border-radius: 0.25em;box-sizing: border-box;margin-bottom: 0.5em;}#sk-container-id-2 div.sk-estimator:hover {background-color: #d4ebff;}#sk-container-id-2 div.sk-parallel-item::after {content: \"\";width: 100%;border-bottom: 1px solid gray;flex-grow: 1;}#sk-container-id-2 div.sk-label:hover label.sk-toggleable__label {background-color: #d4ebff;}#sk-container-id-2 div.sk-serial::before {content: \"\";position: absolute;border-left: 1px solid gray;box-sizing: border-box;top: 0;bottom: 0;left: 50%;z-index: 0;}#sk-container-id-2 div.sk-serial {display: flex;flex-direction: column;align-items: center;background-color: white;padding-right: 0.2em;padding-left: 0.2em;position: relative;}#sk-container-id-2 div.sk-item {position: relative;z-index: 1;}#sk-container-id-2 div.sk-parallel {display: flex;align-items: stretch;justify-content: center;background-color: white;position: relative;}#sk-container-id-2 div.sk-item::before, #sk-container-id-2 div.sk-parallel-item::before {content: \"\";position: absolute;border-left: 1px solid gray;box-sizing: border-box;top: 0;bottom: 0;left: 50%;z-index: -1;}#sk-container-id-2 div.sk-parallel-item {display: flex;flex-direction: column;z-index: 1;position: relative;background-color: white;}#sk-container-id-2 div.sk-parallel-item:first-child::after {align-self: flex-end;width: 50%;}#sk-container-id-2 div.sk-parallel-item:last-child::after {align-self: flex-start;width: 50%;}#sk-container-id-2 div.sk-parallel-item:only-child::after {width: 0;}#sk-container-id-2 div.sk-dashed-wrapped {border: 1px dashed gray;margin: 0 0.4em 0.5em 0.4em;box-sizing: border-box;padding-bottom: 0.4em;background-color: white;}#sk-container-id-2 div.sk-label label {font-family: monospace;font-weight: bold;display: inline-block;line-height: 1.2em;}#sk-container-id-2 div.sk-label-container {text-align: center;}#sk-container-id-2 div.sk-container {/* jupyter's `normalize.less` sets `[hidden] { display: none; }` but bootstrap.min.css set `[hidden] { display: none !important; }` so we also need the `!important` here to be able to override the default hidden behavior on the sphinx rendered scikit-learn.org. See: https://github.com/scikit-learn/scikit-learn/issues/21755 */display: inline-block !important;position: relative;}#sk-container-id-2 div.sk-text-repr-fallback {display: none;}</style><div id=\"sk-container-id-2\" class=\"sk-top-container\"><div class=\"sk-text-repr-fallback\"><pre>RandomizedSearchCV(cv=5,\n",
       "                   estimator=XGBClassifier(base_score=None, booster=None,\n",
       "                                           callbacks=None,\n",
       "                                           colsample_bylevel=None,\n",
       "                                           colsample_bynode=None,\n",
       "                                           colsample_bytree=None, device=None,\n",
       "                                           early_stopping_rounds=None,\n",
       "                                           enable_categorical=False,\n",
       "                                           eval_metric=&#x27;mlogloss&#x27;,\n",
       "                                           feature_types=None, gamma=None,\n",
       "                                           grow_policy=None,\n",
       "                                           importance_type=None,\n",
       "                                           interaction_constraints=None,\n",
       "                                           learnin...\n",
       "                   param_distributions={&#x27;learning_rate&#x27;: &lt;scipy.stats._distn_infrastructure.rv_continuous_frozen object at 0x7a54aadc34c0&gt;,\n",
       "                                        &#x27;max_depth&#x27;: &lt;scipy.stats._distn_infrastructure.rv_discrete_frozen object at 0x7a54aadc2d40&gt;,\n",
       "                                        &#x27;min_child_weight&#x27;: &lt;scipy.stats._distn_infrastructure.rv_discrete_frozen object at 0x7a54aadc13c0&gt;,\n",
       "                                        &#x27;n_estimators&#x27;: &lt;scipy.stats._distn_infrastructure.rv_discrete_frozen object at 0x7a54adf1a4a0&gt;},\n",
       "                   random_state=42, scoring=&#x27;accuracy&#x27;, verbose=1)</pre><b>In a Jupyter environment, please rerun this cell to show the HTML representation or trust the notebook. <br />On GitHub, the HTML representation is unable to render, please try loading this page with nbviewer.org.</b></div><div class=\"sk-container\" hidden><div class=\"sk-item sk-dashed-wrapped\"><div class=\"sk-label-container\"><div class=\"sk-label sk-toggleable\"><input class=\"sk-toggleable__control sk-hidden--visually\" id=\"sk-estimator-id-2\" type=\"checkbox\" ><label for=\"sk-estimator-id-2\" class=\"sk-toggleable__label sk-toggleable__label-arrow\">RandomizedSearchCV</label><div class=\"sk-toggleable__content\"><pre>RandomizedSearchCV(cv=5,\n",
       "                   estimator=XGBClassifier(base_score=None, booster=None,\n",
       "                                           callbacks=None,\n",
       "                                           colsample_bylevel=None,\n",
       "                                           colsample_bynode=None,\n",
       "                                           colsample_bytree=None, device=None,\n",
       "                                           early_stopping_rounds=None,\n",
       "                                           enable_categorical=False,\n",
       "                                           eval_metric=&#x27;mlogloss&#x27;,\n",
       "                                           feature_types=None, gamma=None,\n",
       "                                           grow_policy=None,\n",
       "                                           importance_type=None,\n",
       "                                           interaction_constraints=None,\n",
       "                                           learnin...\n",
       "                   param_distributions={&#x27;learning_rate&#x27;: &lt;scipy.stats._distn_infrastructure.rv_continuous_frozen object at 0x7a54aadc34c0&gt;,\n",
       "                                        &#x27;max_depth&#x27;: &lt;scipy.stats._distn_infrastructure.rv_discrete_frozen object at 0x7a54aadc2d40&gt;,\n",
       "                                        &#x27;min_child_weight&#x27;: &lt;scipy.stats._distn_infrastructure.rv_discrete_frozen object at 0x7a54aadc13c0&gt;,\n",
       "                                        &#x27;n_estimators&#x27;: &lt;scipy.stats._distn_infrastructure.rv_discrete_frozen object at 0x7a54adf1a4a0&gt;},\n",
       "                   random_state=42, scoring=&#x27;accuracy&#x27;, verbose=1)</pre></div></div></div><div class=\"sk-parallel\"><div class=\"sk-parallel-item\"><div class=\"sk-item\"><div class=\"sk-label-container\"><div class=\"sk-label sk-toggleable\"><input class=\"sk-toggleable__control sk-hidden--visually\" id=\"sk-estimator-id-3\" type=\"checkbox\" ><label for=\"sk-estimator-id-3\" class=\"sk-toggleable__label sk-toggleable__label-arrow\">estimator: XGBClassifier</label><div class=\"sk-toggleable__content\"><pre>XGBClassifier(base_score=None, booster=None, callbacks=None,\n",
       "              colsample_bylevel=None, colsample_bynode=None,\n",
       "              colsample_bytree=None, device=None, early_stopping_rounds=None,\n",
       "              enable_categorical=False, eval_metric=&#x27;mlogloss&#x27;,\n",
       "              feature_types=None, gamma=None, grow_policy=None,\n",
       "              importance_type=None, interaction_constraints=None,\n",
       "              learning_rate=None, max_bin=None, max_cat_threshold=None,\n",
       "              max_cat_to_onehot=None, max_delta_step=None, max_depth=None,\n",
       "              max_leaves=None, min_child_weight=None, missing=nan,\n",
       "              monotone_constraints=None, multi_strategy=None, n_estimators=None,\n",
       "              n_jobs=None, num_parallel_tree=None, objective=&#x27;multi:softmax&#x27;, ...)</pre></div></div></div><div class=\"sk-serial\"><div class=\"sk-item\"><div class=\"sk-estimator sk-toggleable\"><input class=\"sk-toggleable__control sk-hidden--visually\" id=\"sk-estimator-id-4\" type=\"checkbox\" ><label for=\"sk-estimator-id-4\" class=\"sk-toggleable__label sk-toggleable__label-arrow\">XGBClassifier</label><div class=\"sk-toggleable__content\"><pre>XGBClassifier(base_score=None, booster=None, callbacks=None,\n",
       "              colsample_bylevel=None, colsample_bynode=None,\n",
       "              colsample_bytree=None, device=None, early_stopping_rounds=None,\n",
       "              enable_categorical=False, eval_metric=&#x27;mlogloss&#x27;,\n",
       "              feature_types=None, gamma=None, grow_policy=None,\n",
       "              importance_type=None, interaction_constraints=None,\n",
       "              learning_rate=None, max_bin=None, max_cat_threshold=None,\n",
       "              max_cat_to_onehot=None, max_delta_step=None, max_depth=None,\n",
       "              max_leaves=None, min_child_weight=None, missing=nan,\n",
       "              monotone_constraints=None, multi_strategy=None, n_estimators=None,\n",
       "              n_jobs=None, num_parallel_tree=None, objective=&#x27;multi:softmax&#x27;, ...)</pre></div></div></div></div></div></div></div></div></div></div>"
      ],
      "text/plain": [
       "RandomizedSearchCV(cv=5,\n",
       "                   estimator=XGBClassifier(base_score=None, booster=None,\n",
       "                                           callbacks=None,\n",
       "                                           colsample_bylevel=None,\n",
       "                                           colsample_bynode=None,\n",
       "                                           colsample_bytree=None, device=None,\n",
       "                                           early_stopping_rounds=None,\n",
       "                                           enable_categorical=False,\n",
       "                                           eval_metric='mlogloss',\n",
       "                                           feature_types=None, gamma=None,\n",
       "                                           grow_policy=None,\n",
       "                                           importance_type=None,\n",
       "                                           interaction_constraints=None,\n",
       "                                           learnin...\n",
       "                   param_distributions={'learning_rate': <scipy.stats._distn_infrastructure.rv_continuous_frozen object at 0x7a54aadc34c0>,\n",
       "                                        'max_depth': <scipy.stats._distn_infrastructure.rv_discrete_frozen object at 0x7a54aadc2d40>,\n",
       "                                        'min_child_weight': <scipy.stats._distn_infrastructure.rv_discrete_frozen object at 0x7a54aadc13c0>,\n",
       "                                        'n_estimators': <scipy.stats._distn_infrastructure.rv_discrete_frozen object at 0x7a54adf1a4a0>},\n",
       "                   random_state=42, scoring='accuracy', verbose=1)"
      ]
     },
     "execution_count": 18,
     "metadata": {},
     "output_type": "execute_result"
    }
   ],
   "source": [
    "X_train = pd.concat([X_train, X_val], ignore_index=True)\n",
    "y_train = pd.concat([y_train, y_val], ignore_index=True)\n",
    "\n",
    "model = XGBClassifier(\n",
    "    objective='multi:softmax',\n",
    "    eval_metric='mlogloss',\n",
    "    use_label_encoder=False\n",
    ")\n",
    "\n",
    "param_dist = {\n",
    "    'max_depth': randint(3, 10),\n",
    "    'min_child_weight': randint(1, 6),\n",
    "    'learning_rate': uniform(0.01, 0.2),\n",
    "    'n_estimators': randint(100, 500)\n",
    "}\n",
    "\n",
    "random_search = RandomizedSearchCV(\n",
    "    estimator=model,\n",
    "    param_distributions=param_dist,\n",
    "    n_iter=30,\n",
    "    scoring='accuracy',\n",
    "    cv=5,\n",
    "    verbose=1,\n",
    "    random_state=42\n",
    ")\n",
    "\n",
    "random_search.fit(X_train, y_train)"
   ]
  },
  {
   "cell_type": "code",
   "execution_count": 19,
   "id": "37e62a85",
   "metadata": {
    "execution": {
     "iopub.execute_input": "2024-08-12T13:34:23.112647Z",
     "iopub.status.busy": "2024-08-12T13:34:23.112217Z",
     "iopub.status.idle": "2024-08-12T13:34:23.216055Z",
     "shell.execute_reply": "2024-08-12T13:34:23.214852Z"
    },
    "papermill": {
     "duration": 0.132004,
     "end_time": "2024-08-12T13:34:23.218685",
     "exception": false,
     "start_time": "2024-08-12T13:34:23.086681",
     "status": "completed"
    },
    "tags": []
   },
   "outputs": [
    {
     "name": "stdout",
     "output_type": "stream",
     "text": [
      "Best parameters: {'learning_rate': 0.11495128632644756, 'max_depth': 6, 'min_child_weight': 1, 'n_estimators': 148}\n",
      "Best score: 0.9936109978115224\n",
      "Accuracy on test set: 0.9950906344410876\n",
      "              precision    recall  f1-score   support\n",
      "\n",
      "           0       1.00      1.00      1.00      2017\n",
      "           1       1.00      1.00      1.00      2404\n",
      "           2       1.00      1.00      1.00      1620\n",
      "           3       0.99      0.99      0.99      1062\n",
      "           4       0.98      0.98      0.98       568\n",
      "           5       0.95      0.97      0.96       210\n",
      "           6       0.95      0.84      0.89        63\n",
      "\n",
      "    accuracy                           1.00      7944\n",
      "   macro avg       0.98      0.97      0.97      7944\n",
      "weighted avg       1.00      1.00      1.00      7944\n",
      "\n"
     ]
    }
   ],
   "source": [
    "best_params = random_search.best_params_\n",
    "\n",
    "print(f'Best parameters: {best_params}')\n",
    "print(f'Best score: {random_search.best_score_}')\n",
    "\n",
    "y_pred = random_search.predict(X_test)\n",
    "print(\"Accuracy on test set:\", accuracy_score(y_test, y_pred))\n",
    "print(classification_report(y_test, y_pred))"
   ]
  },
  {
   "cell_type": "markdown",
   "id": "33bdc291",
   "metadata": {
    "papermill": {
     "duration": 0.02291,
     "end_time": "2024-08-12T13:34:23.331777",
     "exception": false,
     "start_time": "2024-08-12T13:34:23.308867",
     "status": "completed"
    },
    "tags": []
   },
   "source": [
    "Since we have found the optimal hyperparameters, we can use them to initialize a new model. We can train this model on the combined training and validation sets for extra data. The validation set will not be necessary to include since we already know the optimal hyperparameters.\n",
    "\n",
    "As before, we will evaluate the model on the unseen test set.\n",
    "\n",
    "We will save the best model."
   ]
  },
  {
   "cell_type": "code",
   "execution_count": 20,
   "id": "9a7eec0d",
   "metadata": {
    "execution": {
     "iopub.execute_input": "2024-08-12T13:34:23.379443Z",
     "iopub.status.busy": "2024-08-12T13:34:23.378966Z",
     "iopub.status.idle": "2024-08-12T13:34:29.089421Z",
     "shell.execute_reply": "2024-08-12T13:34:29.087912Z"
    },
    "papermill": {
     "duration": 5.737771,
     "end_time": "2024-08-12T13:34:29.092528",
     "exception": false,
     "start_time": "2024-08-12T13:34:23.354757",
     "status": "completed"
    },
    "tags": []
   },
   "outputs": [
    {
     "data": {
      "text/html": [
       "<style>#sk-container-id-3 {color: black;background-color: white;}#sk-container-id-3 pre{padding: 0;}#sk-container-id-3 div.sk-toggleable {background-color: white;}#sk-container-id-3 label.sk-toggleable__label {cursor: pointer;display: block;width: 100%;margin-bottom: 0;padding: 0.3em;box-sizing: border-box;text-align: center;}#sk-container-id-3 label.sk-toggleable__label-arrow:before {content: \"▸\";float: left;margin-right: 0.25em;color: #696969;}#sk-container-id-3 label.sk-toggleable__label-arrow:hover:before {color: black;}#sk-container-id-3 div.sk-estimator:hover label.sk-toggleable__label-arrow:before {color: black;}#sk-container-id-3 div.sk-toggleable__content {max-height: 0;max-width: 0;overflow: hidden;text-align: left;background-color: #f0f8ff;}#sk-container-id-3 div.sk-toggleable__content pre {margin: 0.2em;color: black;border-radius: 0.25em;background-color: #f0f8ff;}#sk-container-id-3 input.sk-toggleable__control:checked~div.sk-toggleable__content {max-height: 200px;max-width: 100%;overflow: auto;}#sk-container-id-3 input.sk-toggleable__control:checked~label.sk-toggleable__label-arrow:before {content: \"▾\";}#sk-container-id-3 div.sk-estimator input.sk-toggleable__control:checked~label.sk-toggleable__label {background-color: #d4ebff;}#sk-container-id-3 div.sk-label input.sk-toggleable__control:checked~label.sk-toggleable__label {background-color: #d4ebff;}#sk-container-id-3 input.sk-hidden--visually {border: 0;clip: rect(1px 1px 1px 1px);clip: rect(1px, 1px, 1px, 1px);height: 1px;margin: -1px;overflow: hidden;padding: 0;position: absolute;width: 1px;}#sk-container-id-3 div.sk-estimator {font-family: monospace;background-color: #f0f8ff;border: 1px dotted black;border-radius: 0.25em;box-sizing: border-box;margin-bottom: 0.5em;}#sk-container-id-3 div.sk-estimator:hover {background-color: #d4ebff;}#sk-container-id-3 div.sk-parallel-item::after {content: \"\";width: 100%;border-bottom: 1px solid gray;flex-grow: 1;}#sk-container-id-3 div.sk-label:hover label.sk-toggleable__label {background-color: #d4ebff;}#sk-container-id-3 div.sk-serial::before {content: \"\";position: absolute;border-left: 1px solid gray;box-sizing: border-box;top: 0;bottom: 0;left: 50%;z-index: 0;}#sk-container-id-3 div.sk-serial {display: flex;flex-direction: column;align-items: center;background-color: white;padding-right: 0.2em;padding-left: 0.2em;position: relative;}#sk-container-id-3 div.sk-item {position: relative;z-index: 1;}#sk-container-id-3 div.sk-parallel {display: flex;align-items: stretch;justify-content: center;background-color: white;position: relative;}#sk-container-id-3 div.sk-item::before, #sk-container-id-3 div.sk-parallel-item::before {content: \"\";position: absolute;border-left: 1px solid gray;box-sizing: border-box;top: 0;bottom: 0;left: 50%;z-index: -1;}#sk-container-id-3 div.sk-parallel-item {display: flex;flex-direction: column;z-index: 1;position: relative;background-color: white;}#sk-container-id-3 div.sk-parallel-item:first-child::after {align-self: flex-end;width: 50%;}#sk-container-id-3 div.sk-parallel-item:last-child::after {align-self: flex-start;width: 50%;}#sk-container-id-3 div.sk-parallel-item:only-child::after {width: 0;}#sk-container-id-3 div.sk-dashed-wrapped {border: 1px dashed gray;margin: 0 0.4em 0.5em 0.4em;box-sizing: border-box;padding-bottom: 0.4em;background-color: white;}#sk-container-id-3 div.sk-label label {font-family: monospace;font-weight: bold;display: inline-block;line-height: 1.2em;}#sk-container-id-3 div.sk-label-container {text-align: center;}#sk-container-id-3 div.sk-container {/* jupyter's `normalize.less` sets `[hidden] { display: none; }` but bootstrap.min.css set `[hidden] { display: none !important; }` so we also need the `!important` here to be able to override the default hidden behavior on the sphinx rendered scikit-learn.org. See: https://github.com/scikit-learn/scikit-learn/issues/21755 */display: inline-block !important;position: relative;}#sk-container-id-3 div.sk-text-repr-fallback {display: none;}</style><div id=\"sk-container-id-3\" class=\"sk-top-container\"><div class=\"sk-text-repr-fallback\"><pre>XGBClassifier(base_score=None, booster=None, callbacks=None,\n",
       "              colsample_bylevel=None, colsample_bynode=None,\n",
       "              colsample_bytree=None, device=None, early_stopping_rounds=None,\n",
       "              enable_categorical=False, eval_metric=&#x27;mlogloss&#x27;,\n",
       "              feature_types=None, gamma=None, grow_policy=None,\n",
       "              importance_type=None, interaction_constraints=None,\n",
       "              learning_rate=0.11495128632644756, max_bin=None,\n",
       "              max_cat_threshold=None, max_cat_to_onehot=None,\n",
       "              max_delta_step=None, max_depth=6, max_leaves=None,\n",
       "              min_child_weight=1, missing=nan, monotone_constraints=None,\n",
       "              multi_strategy=None, n_estimators=148, n_jobs=None,\n",
       "              num_parallel_tree=None, objective=&#x27;multi:softmax&#x27;, ...)</pre><b>In a Jupyter environment, please rerun this cell to show the HTML representation or trust the notebook. <br />On GitHub, the HTML representation is unable to render, please try loading this page with nbviewer.org.</b></div><div class=\"sk-container\" hidden><div class=\"sk-item\"><div class=\"sk-estimator sk-toggleable\"><input class=\"sk-toggleable__control sk-hidden--visually\" id=\"sk-estimator-id-5\" type=\"checkbox\" checked><label for=\"sk-estimator-id-5\" class=\"sk-toggleable__label sk-toggleable__label-arrow\">XGBClassifier</label><div class=\"sk-toggleable__content\"><pre>XGBClassifier(base_score=None, booster=None, callbacks=None,\n",
       "              colsample_bylevel=None, colsample_bynode=None,\n",
       "              colsample_bytree=None, device=None, early_stopping_rounds=None,\n",
       "              enable_categorical=False, eval_metric=&#x27;mlogloss&#x27;,\n",
       "              feature_types=None, gamma=None, grow_policy=None,\n",
       "              importance_type=None, interaction_constraints=None,\n",
       "              learning_rate=0.11495128632644756, max_bin=None,\n",
       "              max_cat_threshold=None, max_cat_to_onehot=None,\n",
       "              max_delta_step=None, max_depth=6, max_leaves=None,\n",
       "              min_child_weight=1, missing=nan, monotone_constraints=None,\n",
       "              multi_strategy=None, n_estimators=148, n_jobs=None,\n",
       "              num_parallel_tree=None, objective=&#x27;multi:softmax&#x27;, ...)</pre></div></div></div></div></div>"
      ],
      "text/plain": [
       "XGBClassifier(base_score=None, booster=None, callbacks=None,\n",
       "              colsample_bylevel=None, colsample_bynode=None,\n",
       "              colsample_bytree=None, device=None, early_stopping_rounds=None,\n",
       "              enable_categorical=False, eval_metric='mlogloss',\n",
       "              feature_types=None, gamma=None, grow_policy=None,\n",
       "              importance_type=None, interaction_constraints=None,\n",
       "              learning_rate=0.11495128632644756, max_bin=None,\n",
       "              max_cat_threshold=None, max_cat_to_onehot=None,\n",
       "              max_delta_step=None, max_depth=6, max_leaves=None,\n",
       "              min_child_weight=1, missing=nan, monotone_constraints=None,\n",
       "              multi_strategy=None, n_estimators=148, n_jobs=None,\n",
       "              num_parallel_tree=None, objective='multi:softmax', ...)"
      ]
     },
     "execution_count": 20,
     "metadata": {},
     "output_type": "execute_result"
    }
   ],
   "source": [
    "best_model = XGBClassifier(\n",
    "    objective='multi:softmax',\n",
    "    eval_metric='mlogloss',\n",
    "    use_label_encoder=False,\n",
    "    **best_params\n",
    ")\n",
    "\n",
    "best_model.fit(X_train, y_train)"
   ]
  },
  {
   "cell_type": "code",
   "execution_count": 21,
   "id": "7eb9e27e",
   "metadata": {
    "execution": {
     "iopub.execute_input": "2024-08-12T13:34:29.142563Z",
     "iopub.status.busy": "2024-08-12T13:34:29.142078Z",
     "iopub.status.idle": "2024-08-12T13:34:29.245664Z",
     "shell.execute_reply": "2024-08-12T13:34:29.244386Z"
    },
    "papermill": {
     "duration": 0.131129,
     "end_time": "2024-08-12T13:34:29.248175",
     "exception": false,
     "start_time": "2024-08-12T13:34:29.117046",
     "status": "completed"
    },
    "tags": []
   },
   "outputs": [
    {
     "name": "stdout",
     "output_type": "stream",
     "text": [
      "Accuracy on test set: 0.9950906344410876\n",
      "              precision    recall  f1-score   support\n",
      "\n",
      "           0       1.00      1.00      1.00      2017\n",
      "           1       1.00      1.00      1.00      2404\n",
      "           2       1.00      1.00      1.00      1620\n",
      "           3       0.99      0.99      0.99      1062\n",
      "           4       0.98      0.98      0.98       568\n",
      "           5       0.95      0.97      0.96       210\n",
      "           6       0.95      0.84      0.89        63\n",
      "\n",
      "    accuracy                           1.00      7944\n",
      "   macro avg       0.98      0.97      0.97      7944\n",
      "weighted avg       1.00      1.00      1.00      7944\n",
      "\n"
     ]
    }
   ],
   "source": [
    "y_pred = best_model.predict(X_test)\n",
    "print(\"Accuracy on test set:\", accuracy_score(y_test, y_pred))\n",
    "print(classification_report(y_test, y_pred))"
   ]
  },
  {
   "cell_type": "code",
   "execution_count": 22,
   "id": "37830008",
   "metadata": {
    "execution": {
     "iopub.execute_input": "2024-08-12T13:34:29.298902Z",
     "iopub.status.busy": "2024-08-12T13:34:29.298507Z",
     "iopub.status.idle": "2024-08-12T13:34:29.359954Z",
     "shell.execute_reply": "2024-08-12T13:34:29.358771Z"
    },
    "papermill": {
     "duration": 0.090223,
     "end_time": "2024-08-12T13:34:29.362818",
     "exception": false,
     "start_time": "2024-08-12T13:34:29.272595",
     "status": "completed"
    },
    "tags": []
   },
   "outputs": [],
   "source": [
    "best_model.save_model('best_xgboost_model.json')"
   ]
  }
 ],
 "metadata": {
  "kaggle": {
   "accelerator": "none",
   "dataSources": [
    {
     "datasetId": 680898,
     "sourceId": 1195636,
     "sourceType": "datasetVersion"
    }
   ],
   "isGpuEnabled": false,
   "isInternetEnabled": true,
   "language": "python",
   "sourceType": "notebook"
  },
  "kernelspec": {
   "display_name": "Python 3 (ipykernel)",
   "language": "python",
   "name": "python3"
  },
  "language_info": {
   "codemirror_mode": {
    "name": "ipython",
    "version": 3
   },
   "file_extension": ".py",
   "mimetype": "text/x-python",
   "name": "python",
   "nbconvert_exporter": "python",
   "pygments_lexer": "ipython3",
   "version": "3.10.13"
  },
  "papermill": {
   "default_parameters": {},
   "duration": 1084.430529,
   "end_time": "2024-08-12T13:34:30.011667",
   "environment_variables": {},
   "exception": null,
   "input_path": "__notebook__.ipynb",
   "output_path": "__notebook__.ipynb",
   "parameters": {},
   "start_time": "2024-08-12T13:16:25.581138",
   "version": "2.5.0"
  }
 },
 "nbformat": 4,
 "nbformat_minor": 5
}
